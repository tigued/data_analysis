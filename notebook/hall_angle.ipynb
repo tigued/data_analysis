{
 "cells": [
  {
   "cell_type": "code",
   "execution_count": 10,
   "metadata": {},
   "outputs": [
    {
     "data": {
      "text/plain": [
       "PosixPath('/Users/uedataiga/Desktop/grad-research/data_analysis/Data/PPMS')"
      ]
     },
     "execution_count": 10,
     "metadata": {},
     "output_type": "execute_result"
    }
   ],
   "source": [
    "import numpy as np\n",
    "import matplotlib.pyplot as plt\n",
    "import matplotlib as mpl\n",
    "import pandas as pd\n",
    "import os\n",
    "import sys\n",
    "import re\n",
    "import glob\n",
    "import seaborn as sns\n",
    "from pathlib import Path\n",
    "import os\n",
    "from pprint import pprint\n",
    "from typing import List, Tuple, Dict, Union, Optional\n",
    "plt.rcParams[\"font.family\"] = \"Arial\"  # \"Times New Roman\"      #全体のフォントを設定\n",
    "plt.rcParams[\"xtick.direction\"] = \"in\"  # x軸の目盛線を内向きへ\n",
    "plt.rcParams[\"ytick.direction\"] = \"in\"  # y軸の目盛線を内向きへ\n",
    "plt.rcParams[\"xtick.minor.visible\"] = True  # x軸補助目盛りの追加\n",
    "plt.rcParams[\"ytick.minor.visible\"] = True  # y軸補助目盛りの追加\n",
    "# plt.rcParams[\"xtick.major.width\"] = 1.5              #x軸主目盛り線の線幅\n",
    "# plt.rcParams[\"ytick.major.width\"] = 1.5              #y軸主目盛り線の線幅\n",
    "# plt.rcParams[\"xtick.minor.width\"] = 1.0              #x軸補助目盛り線の線幅\n",
    "# plt.rcParams[\"ytick.minor.width\"] = 1.0              #y軸補助目盛り線の線幅\n",
    "plt.rcParams[\"xtick.major.size\"] = 10  # x軸主目盛り線の長さ\n",
    "plt.rcParams[\"ytick.major.size\"] = 10  # y軸主目盛り線の長さ\n",
    "plt.rcParams[\"xtick.minor.size\"] = 5  # x軸補助目盛り線の長さ\n",
    "plt.rcParams[\"ytick.minor.size\"] = 5  # y軸補助目盛り線の長さ\n",
    "plt.rcParams[\"font.size\"] = 14  # フォントの大きさ\n",
    "plt.rcParams[\"axes.linewidth\"] = 1  # 囲みの太さ\n",
    "plt.rcParams[\"figure.figsize\"] = [5, 4]\n",
    "# 目盛方向を両側, 目盛の長さを5ポイント, 目盛と目盛ラベルの色\n",
    "# ax.tick_params(direction=\"in\", length=10, colors=\"black\", width=1)\n",
    "plt.rcParams[\"xtick.top\"] = True\n",
    "plt.rcParams[\"ytick.right\"] = True\n",
    "DIR = Path(\"/Users/uedataiga/Desktop/grad-research/data_analysis/Data/PPMS\")\n",
    "DIR"
   ]
  },
  {
   "cell_type": "code",
   "execution_count": 20,
   "metadata": {},
   "outputs": [],
   "source": [
    "\n",
    "def plot(x, y, label, xlabel, ylabel, MIN_X, MAX_X, X_STEP, SUB_X_STEP, MIN_Y, MAX_Y, Y_STEP, SUB_Y_STEP, savepath, hlines=True, figsize=(2.5*1.5, 2*1.5), title=\"\", suffix=\"\"):\n",
    "    \"\"\"\n",
    "    \"\"\"\n",
    "    suffix = suffix\n",
    "    # Figureを設定\n",
    "    fig = plt.figure(figsize=figsize)\n",
    "    # Axesを追加\n",
    "    ax = fig.add_subplot(111)\n",
    "    ax.plot(x, y, label, color=\"red\", marker=\"o\", linestyle=\"-\", markersize=3, linewidth=1, markerfacecolor=\"red\", markeredgewidth=2, markeredgecolor=\"red\", markerfacecoloralt=\"red\")  # , x=\"x\", y=\"fwhm\")\n",
    "    if hlines:\n",
    "        ax.hlines(0, 0, MAX_Y, color='black', linestyles='dotted')\n",
    "    else:\n",
    "        pass\n",
    "\n",
    "    # plt.show()\n",
    "    # Axesのタイトルの設定\n",
    "    ax.set_title(title)\n",
    "    # 軸ラベルの設定\n",
    "    ax.set_xlabel(xlabel, weight=\"light\")\n",
    "    ax.set_ylabel(ylabel, weight=\"light\")\n",
    "    # x軸の目盛設定\n",
    "    ax.set_xlim(MIN_X, MAX_X)\n",
    "    ax.set_xticks(np.arange(MIN_X, MAX_X, step=X_STEP))\n",
    "    # y軸の目盛設定\n",
    "    ax.set_ylim(MIN_Y, MAX_Y)\n",
    "    ax.set_yticks(np.arange(0, MAX_Y, step=Y_STEP))\n",
    "    # 副目盛りの設定\n",
    "    ax.minorticks_on()\n",
    "    ax.tick_params(which=\"minor\", direction=\"in\", length=5, colors=\"black\")\n",
    "    ax.set_xticks(np.arange(MIN_X, MAX_X, step=SUB_X_STEP), minor=True)\n",
    "    ax.set_yticks(np.arange(0, MAX_Y, step=SUB_Y_STEP), minor=True)\n",
    "    savepath = str(savepath).replace(\".png\", f\"{suffix}.png\")\n",
    "    plt.savefig(savepath, dpi=300, bbox_inches='tight', transparent=True)\n"
   ]
  },
  {
   "cell_type": "code",
   "execution_count": 25,
   "metadata": {},
   "outputs": [
    {
     "name": "stdout",
     "output_type": "stream",
     "text": [
      "1354\n"
     ]
    },
    {
     "name": "stderr",
     "output_type": "stream",
     "text": [
      "<ipython-input-20-edc733021b56>:9: UserWarning: linestyle is redundantly defined by the 'linestyle' keyword argument and the fmt string \"\" (-> linestyle='-'). The keyword argument will take precedence.\n",
      "  ax.plot(x, y, label, color=\"red\", marker=\"o\", linestyle=\"-\", markersize=3, linewidth=1, markerfacecolor=\"red\", markeredgewidth=2, markeredgecolor=\"red\", markerfacecoloralt=\"red\")  # , x=\"x\", y=\"fwhm\")\n"
     ]
    },
    {
     "name": "stdout",
     "output_type": "stream",
     "text": [
      "2.0 0.0011760936358318\n",
      "1360\n"
     ]
    },
    {
     "name": "stderr",
     "output_type": "stream",
     "text": [
      "<ipython-input-20-edc733021b56>:9: UserWarning: linestyle is redundantly defined by the 'linestyle' keyword argument and the fmt string \"\" (-> linestyle='-'). The keyword argument will take precedence.\n",
      "  ax.plot(x, y, label, color=\"red\", marker=\"o\", linestyle=\"-\", markersize=3, linewidth=1, markerfacecolor=\"red\", markeredgewidth=2, markeredgecolor=\"red\", markerfacecoloralt=\"red\")  # , x=\"x\", y=\"fwhm\")\n",
      "<ipython-input-20-edc733021b56>:9: UserWarning: linestyle is redundantly defined by the 'linestyle' keyword argument and the fmt string \"\" (-> linestyle='-'). The keyword argument will take precedence.\n",
      "  ax.plot(x, y, label, color=\"red\", marker=\"o\", linestyle=\"-\", markersize=3, linewidth=1, markerfacecolor=\"red\", markeredgewidth=2, markeredgecolor=\"red\", markerfacecoloralt=\"red\")  # , x=\"x\", y=\"fwhm\")\n"
     ]
    },
    {
     "name": "stdout",
     "output_type": "stream",
     "text": [
      "2.1 0.1169190446865206\n",
      "1364\n",
      "2.0 0.3422616036026429\n",
      "1365\n"
     ]
    },
    {
     "name": "stderr",
     "output_type": "stream",
     "text": [
      "<ipython-input-20-edc733021b56>:9: UserWarning: linestyle is redundantly defined by the 'linestyle' keyword argument and the fmt string \"\" (-> linestyle='-'). The keyword argument will take precedence.\n",
      "  ax.plot(x, y, label, color=\"red\", marker=\"o\", linestyle=\"-\", markersize=3, linewidth=1, markerfacecolor=\"red\", markeredgewidth=2, markeredgecolor=\"red\", markerfacecoloralt=\"red\")  # , x=\"x\", y=\"fwhm\")\n"
     ]
    },
    {
     "name": "stdout",
     "output_type": "stream",
     "text": [
      "4.0 0.4406542419736529\n",
      "1362\n"
     ]
    },
    {
     "name": "stderr",
     "output_type": "stream",
     "text": [
      "<ipython-input-20-edc733021b56>:9: UserWarning: linestyle is redundantly defined by the 'linestyle' keyword argument and the fmt string \"\" (-> linestyle='-'). The keyword argument will take precedence.\n",
      "  ax.plot(x, y, label, color=\"red\", marker=\"o\", linestyle=\"-\", markersize=3, linewidth=1, markerfacecolor=\"red\", markeredgewidth=2, markeredgecolor=\"red\", markerfacecoloralt=\"red\")  # , x=\"x\", y=\"fwhm\")\n",
      "<ipython-input-20-edc733021b56>:9: UserWarning: linestyle is redundantly defined by the 'linestyle' keyword argument and the fmt string \"\" (-> linestyle='-'). The keyword argument will take precedence.\n",
      "  ax.plot(x, y, label, color=\"red\", marker=\"o\", linestyle=\"-\", markersize=3, linewidth=1, markerfacecolor=\"red\", markeredgewidth=2, markeredgecolor=\"red\", markerfacecoloralt=\"red\")  # , x=\"x\", y=\"fwhm\")\n"
     ]
    },
    {
     "name": "stdout",
     "output_type": "stream",
     "text": [
      "2.1 0.3600418168508518\n",
      "1361\n",
      "2.1 0.056257526242882\n",
      "1357\n",
      "2.0 0.0410611540609816\n"
     ]
    },
    {
     "name": "stderr",
     "output_type": "stream",
     "text": [
      "<ipython-input-20-edc733021b56>:9: UserWarning: linestyle is redundantly defined by the 'linestyle' keyword argument and the fmt string \"\" (-> linestyle='-'). The keyword argument will take precedence.\n",
      "  ax.plot(x, y, label, color=\"red\", marker=\"o\", linestyle=\"-\", markersize=3, linewidth=1, markerfacecolor=\"red\", markeredgewidth=2, markeredgecolor=\"red\", markerfacecoloralt=\"red\")  # , x=\"x\", y=\"fwhm\")\n"
     ]
    },
    {
     "data": {
      "image/png": "[encoded data removed]",
      "text/plain": [
       "<Figure size 270x216 with 1 Axes>"
      ]
     },
     "metadata": {
      "needs_background": "light"
     },
     "output_type": "display_data"
    },
    {
     "data": {
      "image/png": "[encoded data removed]",
      "text/plain": [
       "<Figure size 270x216 with 1 Axes>"
      ]
     },
     "metadata": {
      "needs_background": "light"
     },
     "output_type": "display_data"
    },
    {
     "data": {
      "image/png": "[encoded data removed]",
      "text/plain": [
       "<Figure size 270x216 with 1 Axes>"
      ]
     },
     "metadata": {
      "needs_background": "light"
     },
     "output_type": "display_data"
    },
    {
     "data": {
      "image/png": "[encoded data removed]",
      "text/plain": [
       "<Figure size 270x216 with 1 Axes>"
      ]
     },
     "metadata": {
      "needs_background": "light"
     },
     "output_type": "display_data"
    },
    {
     "data": {
      "image/png": "[encoded data removed]",
      "text/plain": [
       "<Figure size 270x216 with 1 Axes>"
      ]
     },
     "metadata": {
      "needs_background": "light"
     },
     "output_type": "display_data"
    },
    {
     "data": {
      "image/png": "[encoded data removed]",
      "text/plain": [
       "<Figure size 270x216 with 1 Axes>"
      ]
     },
     "metadata": {
      "needs_background": "light"
     },
     "output_type": "display_data"
    },
    {
     "data": {
      "image/png": "[encoded data removed]",
      "text/plain": [
       "<Figure size 270x216 with 1 Axes>"
      ]
     },
     "metadata": {
      "needs_background": "light"
     },
     "output_type": "display_data"
    },
    {
     "data": {
      "image/png": "[encoded data removed]",
      "text/plain": [
       "<Figure size 270x216 with 1 Axes>"
      ]
     },
     "metadata": {
      "needs_background": "light"
     },
     "output_type": "display_data"
    }
   ],
   "source": [
    "# ホール角を求める\n",
    "data = {\n",
    "    \"sample\": [\"1354\", \"1360\", \"1364\", \"1365\", \"1362\", \"1361\", \"1357\"],\n",
    "    \"dirname\": [\"230525_#1-1354\", \"230719_#1-1359_#1-1360\", \"231003_#1-1364_#1-1365\", \"231003_#1-1364_#1-1365\", \"230726_#1-1362\", \"230720_#1-1361_#2-1421\", \"230628_#1-1357(CBST)\"],\n",
    "    \"x\": [0.0, 0.008, 0.012, 0.016, 0.02, 0.05, 0.08],\n",
    "    \"hallangle\": [],\n",
    "    \"temps\": []\n",
    "}\n",
    "\n",
    "MIN_X = 0\n",
    "MAX_X = 300\n",
    "X_STEP = 100\n",
    "SUB_X_STEP = X_STEP / 2\n",
    "MIN_Y = 0\n",
    "MAX_Y = 1\n",
    "Y_STEP = 0.5\n",
    "SUB_Y_STEP = Y_STEP / 2\n",
    "\n",
    "savepath_organized = DIR / \"summary/hall_angle.png\"\n",
    "for i in range(len(data[\"sample\"])):\n",
    "    SAMPLE = data[\"sample\"][i]\n",
    "    print(SAMPLE)\n",
    "    # i=0だけHall_2.0K.csvからホール角を求める\n",
    "    if i == 0:\n",
    "        MIN_X = -14\n",
    "        MAX_X = 14\n",
    "        X_STEP = 4\n",
    "        SUB_X_STEP = X_STEP / 2\n",
    "        dirpath = DIR / f\"{data['dirname'][i]}/{SAMPLE}\"\n",
    "        savepath_hallangle = dirpath / f\"hall_angle_{SAMPLE}.png\"\n",
    "        df = pd.read_csv(dirpath / \"Hall_2.0K.csv\")\n",
    "        # hallangle = df[\"Ryx\"] / df[\"Rxx\"]\n",
    "        hallangle = df[\"HallAngle_abs\"]\n",
    "        plot(df[\"B_ref\"], hallangle, label=\"\", xlabel=\"$B$ (T)\", ylabel=\"Hall Angle\", title=\"\", MIN_X=MIN_X, MAX_X=MAX_X, X_STEP=X_STEP, SUB_X_STEP=SUB_X_STEP, MIN_Y=MIN_Y, MAX_Y=MAX_Y, Y_STEP=Y_STEP, SUB_Y_STEP=SUB_Y_STEP, savepath=savepath_hallangle, hlines=False)\n",
    "        # B=0に近いの時のホール角をdataに追加\n",
    "        abs_ = abs(df[\"B_ref\"] - 0)\n",
    "        index = abs_.idxmin()\n",
    "        data[\"hallangle\"].append(hallangle[index])\n",
    "        data[\"temps\"].append(df[\"temp\"][index])\n",
    "        print(df[\"temp\"][index], hallangle[index])\n",
    "        continue\n",
    "    else:\n",
    "        MIN_X = 0\n",
    "        MAX_X = 300\n",
    "        X_STEP = 100\n",
    "        SUB_X_STEP = X_STEP / 2\n",
    "        dirname = data[\"dirname\"][i]\n",
    "        x = data[\"x\"][i]\n",
    "        dirpath = DIR / f\"{dirname}/{SAMPLE}\"\n",
    "\n",
    "        savepath_hallangle = dirpath / f\"hall_angle_{SAMPLE}.png\"\n",
    "        df = pd.read_csv(dirpath / \"temp_dep.csv\")\n",
    "        plot(df[\"temps\"], df[\"HallAngle0\"], label=\"\", xlabel=\"$T$ (K)\", ylabel=\"Hall Angle \", title=\"\", MIN_X=MIN_X, MAX_X=MAX_X, X_STEP=X_STEP, SUB_X_STEP=SUB_X_STEP, MIN_Y=MIN_Y, MAX_Y=MAX_Y, Y_STEP=Y_STEP, SUB_Y_STEP=SUB_Y_STEP, savepath=savepath_hallangle, hlines=False)\n",
    "        # 最小温度2Kに近いの時のホール角をdataに追加\n",
    "        # abs_ = abs(df[\"temps\"] - 2)\n",
    "        # index = abs_.idxmin()\n",
    "        # 最大のホール角をdataに追加\n",
    "        index = df[\"HallAngle0\"].idxmax()\n",
    "        data[\"hallangle\"].append(df[\"HallAngle0\"][index])\n",
    "        # 一応温度もdataに追加\n",
    "        data[\"temps\"].append(df[\"temps\"][index])\n",
    "        print(df[\"temps\"][index], df[\"HallAngle0\"][index])\n",
    "\n",
    "# ホール角のx依存性をプロット\n",
    "MIN_X = 0\n",
    "MAX_X = 0.1\n",
    "X_STEP = 0.025\n",
    "SUB_X_STEP = X_STEP / 2\n",
    "MIN_Y = 0\n",
    "MAX_Y = 0.60001\n",
    "Y_STEP = 0.2\n",
    "SUB_Y_STEP = Y_STEP / 2\n",
    "plot(data[\"x\"], data[\"hallangle\"], label=\"\", xlabel=\"Cr($x$)\", ylabel=\"Hall Angle\", title=\"\", MIN_X=MIN_X, MAX_X=MAX_X, X_STEP=X_STEP, SUB_X_STEP=SUB_X_STEP, MIN_Y=MIN_Y, MAX_Y=MAX_Y, Y_STEP=Y_STEP, SUB_Y_STEP=SUB_Y_STEP, savepath=savepath_organized, hlines=False)\n",
    "\n"
   ]
  },
  {
   "cell_type": "code",
   "execution_count": 26,
   "metadata": {},
   "outputs": [
    {
     "data": {
      "text/plain": [
       "{'sample': ['1354', '1360', '1364', '1365', '1362', '1361', '1357'],\n",
       " 'dirname': ['230525_#1-1354',\n",
       "  '230719_#1-1359_#1-1360',\n",
       "  '231003_#1-1364_#1-1365',\n",
       "  '231003_#1-1364_#1-1365',\n",
       "  '230726_#1-1362',\n",
       "  '230720_#1-1361_#2-1421',\n",
       "  '230628_#1-1357(CBST)'],\n",
       " 'x': [0.0, 0.008, 0.012, 0.016, 0.02, 0.05, 0.08],\n",
       " 'hallangle': [0.0011760936358318,\n",
       "  0.1169190446865206,\n",
       "  0.3422616036026429,\n",
       "  0.4406542419736529,\n",
       "  0.3600418168508518,\n",
       "  0.056257526242882,\n",
       "  0.0410611540609816],\n",
       " 'temps': [2.0, 2.1, 2.0, 4.0, 2.1, 2.1, 2.0]}"
      ]
     },
     "execution_count": 26,
     "metadata": {},
     "output_type": "execute_result"
    }
   ],
   "source": [
    "data"
   ]
  },
  {
   "cell_type": "code",
   "execution_count": 19,
   "metadata": {},
   "outputs": [],
   "source": [
    "hallangle.to_csv('hall_angle.csv', index=False)"
   ]
  },
  {
   "cell_type": "code",
   "execution_count": null,
   "metadata": {},
   "outputs": [],
   "source": []
  }
 ],
 "metadata": {
  "kernelspec": {
   "display_name": "Python 3",
   "language": "python",
   "name": "python3"
  },
  "language_info": {
   "codemirror_mode": {
    "name": "ipython",
    "version": 3
   },
   "file_extension": ".py",
   "mimetype": "text/x-python",
   "name": "python",
   "nbconvert_exporter": "python",
   "pygments_lexer": "ipython3",
   "version": "3.8.2"
  },
  "orig_nbformat": 4
 },
 "nbformat": 4,
 "nbformat_minor": 2
}
