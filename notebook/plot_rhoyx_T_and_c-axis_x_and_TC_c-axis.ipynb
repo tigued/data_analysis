{
 "cells": [
  {
   "cell_type": "code",
   "execution_count": 1,
   "metadata": {},
   "outputs": [],
   "source": [
    "# import matplotlib.font_manager as fm\n",
    "# font_list = [f.name for f in fm.fontManager.ttflist]\n",
    "# pprint(font_list)"
   ]
  },
  {
   "cell_type": "code",
   "execution_count": 23,
   "metadata": {},
   "outputs": [],
   "source": [
    "import numpy as np\n",
    "import pandas as pd\n",
    "import matplotlib.pyplot as plt\n",
    "import seaborn as sns\n",
    "from pathlib import Path\n",
    "import os\n",
    "from pprint import pprint\n",
    "from typing import List, Tuple, Dict, Union, Optional\n",
    "# plt.rcParams[\"font.family\"] = \"Arial\" # \"Hiragino Sans\"  # \"Arial\" # \"Times New Roman\"      #全体のフォントを設定\n",
    "# plt.rcParams[\"xtick.direction\"] = \"in\"               #x軸の目盛線を内向きへ\n",
    "# plt.rcParams[\"ytick.direction\"] = \"in\"               #y軸の目盛線を内向きへ\n",
    "# plt.rcParams[\"xtick.minor.visible\"] = True           #x軸補助目盛りの追加\n",
    "# plt.rcParams[\"ytick.minor.visible\"] = True           #y軸補助目盛りの追加\n",
    "# # plt.rcParams[\"xtick.major.width\"] = 1.5              #x軸主目盛り線の線幅\n",
    "# # plt.rcParams[\"ytick.major.width\"] = 1.5              #y軸主目盛り線の線幅\n",
    "# # plt.rcParams[\"xtick.minor.width\"] = 1.0              #x軸補助目盛り線の線幅\n",
    "# # plt.rcParams[\"ytick.minor.width\"] = 1.0              #y軸補助目盛り線の線幅\n",
    "# plt.rcParams[\"xtick.major.size\"] = 10                #x軸主目盛り線の長さ\n",
    "# plt.rcParams[\"ytick.major.size\"] = 10                #y軸主目盛り線の長さ\n",
    "# plt.rcParams[\"xtick.minor.size\"] = 5                 #x軸補助目盛り線の長さ\n",
    "# plt.rcParams[\"ytick.minor.size\"] = 5                 #y軸補助目盛り線の長さ\n",
    "# plt.rcParams[\"font.size\"] = 25                       #フォントの大きさ\n",
    "# plt.rcParams[\"axes.linewidth\"] = 1.25                 #囲みの太さ\n",
    "# plt.rcParams[\"figure.figsize\"] = [5, 4]\n",
    "# # 目盛方向を両側, 目盛の長さを5ポイント, 目盛と目盛ラベルの色\n",
    "# # ax.tick_params(direction=\"in\", length=10, colors=\"black\", width=1)\n",
    "# plt.rcParams[\"xtick.top\"] = True\n",
    "# plt.rcParams[\"ytick.right\"] = True\n",
    "import sys\n",
    "sys.path.append('..')\n",
    "\n",
    "from src.igor import Igor"
   ]
  },
  {
   "cell_type": "code",
   "execution_count": 6,
   "metadata": {},
   "outputs": [],
   "source": [
    "data = {\n",
    "\n",
    "    \"sample\": [\"1354\", \"1360\", \"1364\", \"1365\", \"1362\", \"1369\", \"1370\",\"1361\", \"1357\"],\n",
    "    \"dirname\": [\"230525_#1-1354\", \"230719_#1-1359_#1-1360\", \"231003_#1-1364_#1-1365\", \"231003_#1-1364_#1-1365\", \"230726_#1-1362\", \"231018_#1-1369_#1-1370\", \"231018_#1-1369_#1-1370\", \"230720_#1-1361_#2-1421\", \"230628_#1-1357(CBST)\"],\n",
    "    \"x\": [0.0, 0.008, 0.012, 0.016, 0.02, 0.03, 0.04, 0.05, 0.08],\n",
    "    \"MIN_X\": [0, 0, 0, 0, 0, 0, 0, 0, 0],\n",
    "    \"MAX_X\": [300, 300, 300, 300, 300, 300, 300, 300, 300],\n",
    "    \"X_STEP\": [100, 100, 100, 100, 100, 100, 100, 100, 100],\n",
    "    \"SUB_X_STEP\" : [],\n",
    "    \"MIN_Y\": [-0.125, -100, -100, -100, -500, -250, -250, -100, -10],\n",
    "    \"MAX_Y\": [1, 2000, 7000, 3000, 4500, 1000, 1000, 400, 200],\n",
    "    \"Y_STEP\": [0.25, 500, 1000, 500, 1000, 250, 250, 200, 50],\n",
    "    \"SUB_Y_STEP\" : [],\n",
    "    \"T_C\": []\n",
    "}\n",
    "for i in range(len(data[\"sample\"])):\n",
    "    data[\"SUB_X_STEP\"].append(data[\"X_STEP\"][i] / 2)\n",
    "    data[\"SUB_Y_STEP\"].append(data[\"Y_STEP\"][i] / 2)\n",
    "T_C_threshold = 0.015"
   ]
  },
  {
   "cell_type": "code",
   "execution_count": 7,
   "metadata": {},
   "outputs": [
    {
     "data": {
      "text/plain": [
       "{'sample': ['1354',\n",
       "  '1360',\n",
       "  '1364',\n",
       "  '1365',\n",
       "  '1362',\n",
       "  '1369',\n",
       "  '1370',\n",
       "  '1361',\n",
       "  '1357'],\n",
       " 'dirname': ['230525_#1-1354',\n",
       "  '230719_#1-1359_#1-1360',\n",
       "  '231003_#1-1364_#1-1365',\n",
       "  '231003_#1-1364_#1-1365',\n",
       "  '230726_#1-1362',\n",
       "  '231018_#1-1369_#1-1370',\n",
       "  '231018_#1-1369_#1-1370',\n",
       "  '230720_#1-1361_#2-1421',\n",
       "  '230628_#1-1357(CBST)'],\n",
       " 'x': [0.0, 0.008, 0.012, 0.016, 0.02, 0.03, 0.04, 0.05, 0.08],\n",
       " 'MIN_X': [0, 0, 0, 0, 0, 0, 0, 0, 0],\n",
       " 'MAX_X': [300, 300, 300, 300, 300, 300, 300, 300, 300],\n",
       " 'X_STEP': [100, 100, 100, 100, 100, 100, 100, 100, 100],\n",
       " 'SUB_X_STEP': [50.0, 50.0, 50.0, 50.0, 50.0, 50.0, 50.0, 50.0, 50.0],\n",
       " 'MIN_Y': [-0.125, -100, -100, -100, -500, -250, -250, -100, -10],\n",
       " 'MAX_Y': [1, 2000, 7000, 3000, 4500, 1000, 1000, 400, 200],\n",
       " 'Y_STEP': [0.25, 500, 1000, 500, 1000, 250, 250, 200, 50],\n",
       " 'SUB_Y_STEP': [0.125, 250.0, 500.0, 250.0, 500.0, 125.0, 125.0, 100.0, 25.0],\n",
       " 'T_C': []}"
      ]
     },
     "execution_count": 7,
     "metadata": {},
     "output_type": "execute_result"
    }
   ],
   "source": [
    "data"
   ]
  },
  {
   "cell_type": "code",
   "execution_count": 8,
   "metadata": {},
   "outputs": [],
   "source": [
    "def plot(x, y, label, xlabel, ylabel, MIN_X, MAX_X, X_STEP, SUB_X_STEP, MIN_Y, MAX_Y, Y_STEP, SUB_Y_STEP, savepath, hlines=True, figsize=(5, 4), markersize=5, linewidth=2, title=\"\", suffix=\"\"):\n",
    "    \"\"\"\n",
    "    \"\"\"\n",
    "\n",
    "    # Figureを設定\n",
    "    fig = plt.figure(figsize=figsize)\n",
    "    # Axesを追加\n",
    "    ax = fig.add_subplot(111)\n",
    "    x, y = np.array(x), np.array(y)\n",
    "    # sort\n",
    "    x, y = x[np.argsort(x)], y[np.argsort(x)]\n",
    "    ax.plot(x, y, label, color=\"red\", marker=\"o\", linestyle=\"-\", markersize=markersize, linewidth=linewidth, markerfacecolor=\"red\", markeredgewidth=2, markeredgecolor=\"red\", markerfacecoloralt=\"red\")  # , x=\"x\", y=\"fwhm\")\n",
    "    if hlines:\n",
    "        ax.hlines(0, 0, MAX_Y, color='black', linestyles='dotted')\n",
    "    else:\n",
    "        pass\n",
    "\n",
    "    # plt.show()\n",
    "    # Axesのタイトルの設定\n",
    "    ax.set_title(title)\n",
    "    # 軸ラベルの設定\n",
    "    ax.set_xlabel(xlabel)\n",
    "    ax.set_ylabel(ylabel)\n",
    "    # x軸の目盛設定\n",
    "    ax.set_xlim(MIN_X, MAX_X + 1e-3)\n",
    "    ax.set_xticks(np.arange(MIN_X, MAX_X + 1e-3, step=X_STEP))\n",
    "    # y軸の目盛設定\n",
    "    ax.set_ylim(MIN_Y, MAX_Y + 1e-3)\n",
    "    ax.set_yticks(np.arange(0, MAX_Y + 1e-3, step=Y_STEP))\n",
    "    # 副目盛りの設定\n",
    "    ax.minorticks_on()\n",
    "    ax.tick_params(which=\"minor\", direction=\"in\", length=5, colors=\"black\")\n",
    "    ax.set_xticks(np.arange(MIN_X, MAX_X, step=SUB_X_STEP), minor=True)\n",
    "    ax.set_yticks(np.arange(0, MAX_Y, step=SUB_Y_STEP), minor=True)\n",
    "    savepath = savepath.replace(\".png\", f\"{suffix}.png\")\n",
    "    plt.savefig(savepath, dpi=300, bbox_inches='tight', transparent=True)\n",
    "\n",
    "\n",
    "def plot_rho_yx_T(\n",
    "    data: Dict[str, List[Union[str, float]]],\n",
    "    T_C_threshold: float = 0.0\n",
    ") -> None:\n",
    "    \"\"\"\n",
    "    \"\"\"\n",
    "    for i in range(len(data[\"sample\"])):\n",
    "        SAMPLE = data[\"sample\"][i]\n",
    "        dirname = data[\"dirname\"][i]\n",
    "        MIN_X = data[\"MIN_X\"][i]\n",
    "        MAX_X = data[\"MAX_X\"][i]\n",
    "        X_STEP = data[\"X_STEP\"][i]\n",
    "        SUB_X_STEP = data[\"SUB_X_STEP\"][i]\n",
    "        MIN_Y = data[\"MIN_Y\"][i]\n",
    "        MAX_Y = data[\"MAX_Y\"][i]\n",
    "        Y_STEP = data[\"Y_STEP\"][i]\n",
    "        SUB_Y_STEP = data[\"SUB_Y_STEP\"][i]\n",
    "\n",
    "        dirpath = Path(f\"/Users/uedataiga/Desktop/grad-research/data_analysis/Data/PPMS/{dirname}/{SAMPLE}\")\n",
    "        savepath = f\"/Users/uedataiga/Desktop/grad-research/data_analysis/Data/PPMS/{dirname}/{SAMPLE}/Ryx_temp_{SAMPLE}.png\"\n",
    "        df = pd.read_csv(dirpath / \"temp_dep.csv\")\n",
    "        if i==0:\n",
    "            plot(\n",
    "                df[\"temps\"].values, df[\"I_Ryx\"].values, label=\"\",\n",
    "                xlabel=\"$T$ (K)\", ylabel=\"$R_{yx}$ (Ω)\", title=f\"#1-{SAMPLE}\", \n",
    "                MIN_X=MIN_X, MAX_X=MAX_X, X_STEP=X_STEP,\n",
    "                SUB_X_STEP=SUB_X_STEP, MIN_Y=MIN_Y, MAX_Y=MAX_Y, Y_STEP=Y_STEP, SUB_Y_STEP=SUB_Y_STEP, savepath=savepath, hlines=True\n",
    "            )\n",
    "        else:\n",
    "            plot(\n",
    "                df[\"temps\"].values, df[\"RyxA\"].values, label=\"\",\n",
    "                xlabel=\"$T$ (K)\", ylabel=\"$R_{yx}$ (Ω)\", title=f\"#1-{SAMPLE}\",\n",
    "                MIN_X=MIN_X, MAX_X=MAX_X, X_STEP=X_STEP,\n",
    "                SUB_X_STEP=SUB_X_STEP, MIN_Y=MIN_Y, MAX_Y=MAX_Y, Y_STEP=Y_STEP, SUB_Y_STEP=SUB_Y_STEP, savepath=savepath, hlines=True\n",
    "            )\n",
    "\n",
    "        # # 初めrてRyxAが0を下回る温度を求める\n",
    "        # # T_C = df[df[\"RyxA_norm\"] <= T_c_threshold].iloc[0, 0]\n",
    "        if i == 0:\n",
    "            T_C = 0.0\n",
    "        else:\n",
    "            try:\n",
    "                T_C = df[df[\"RyxA_norm\"] <= T_C_threshold].iloc[0, 0]\n",
    "            except IndexError:\n",
    "                # なかった場合は温度の最小値とその温度を出力\n",
    "                T_C = df[\"temps\"].min()\n",
    "                print(f\"{SAMPLE} : {T_C} K\")\n",
    "        data[\"T_C\"].append(T_C)\n",
    "        print(\"T_C = \", T_C)\n"
   ]
  },
  {
   "cell_type": "code",
   "execution_count": 9,
   "metadata": {},
   "outputs": [
    {
     "name": "stderr",
     "output_type": "stream",
     "text": [
      "<ipython-input-8-0bf6b69df72e>:12: UserWarning: linestyle is redundantly defined by the 'linestyle' keyword argument and the fmt string \"\" (-> linestyle='-'). The keyword argument will take precedence.\n",
      "  ax.plot(x, y, label, color=\"red\", marker=\"o\", linestyle=\"-\", markersize=markersize, linewidth=linewidth, markerfacecolor=\"red\", markeredgewidth=2, markeredgecolor=\"red\", markerfacecoloralt=\"red\")  # , x=\"x\", y=\"fwhm\")\n"
     ]
    },
    {
     "name": "stdout",
     "output_type": "stream",
     "text": [
      "T_c =  0.0\n"
     ]
    },
    {
     "name": "stderr",
     "output_type": "stream",
     "text": [
      "<ipython-input-8-0bf6b69df72e>:12: UserWarning: linestyle is redundantly defined by the 'linestyle' keyword argument and the fmt string \"\" (-> linestyle='-'). The keyword argument will take precedence.\n",
      "  ax.plot(x, y, label, color=\"red\", marker=\"o\", linestyle=\"-\", markersize=markersize, linewidth=linewidth, markerfacecolor=\"red\", markeredgewidth=2, markeredgecolor=\"red\", markerfacecoloralt=\"red\")  # , x=\"x\", y=\"fwhm\")\n"
     ]
    },
    {
     "name": "stdout",
     "output_type": "stream",
     "text": [
      "T_c =  14.0\n"
     ]
    },
    {
     "name": "stderr",
     "output_type": "stream",
     "text": [
      "<ipython-input-8-0bf6b69df72e>:12: UserWarning: linestyle is redundantly defined by the 'linestyle' keyword argument and the fmt string \"\" (-> linestyle='-'). The keyword argument will take precedence.\n",
      "  ax.plot(x, y, label, color=\"red\", marker=\"o\", linestyle=\"-\", markersize=markersize, linewidth=linewidth, markerfacecolor=\"red\", markeredgewidth=2, markeredgecolor=\"red\", markerfacecoloralt=\"red\")  # , x=\"x\", y=\"fwhm\")\n"
     ]
    },
    {
     "name": "stdout",
     "output_type": "stream",
     "text": [
      "T_c =  16.0\n"
     ]
    },
    {
     "name": "stderr",
     "output_type": "stream",
     "text": [
      "<ipython-input-8-0bf6b69df72e>:12: UserWarning: linestyle is redundantly defined by the 'linestyle' keyword argument and the fmt string \"\" (-> linestyle='-'). The keyword argument will take precedence.\n",
      "  ax.plot(x, y, label, color=\"red\", marker=\"o\", linestyle=\"-\", markersize=markersize, linewidth=linewidth, markerfacecolor=\"red\", markeredgewidth=2, markeredgecolor=\"red\", markerfacecoloralt=\"red\")  # , x=\"x\", y=\"fwhm\")\n"
     ]
    },
    {
     "name": "stdout",
     "output_type": "stream",
     "text": [
      "T_c =  25.0\n"
     ]
    },
    {
     "name": "stderr",
     "output_type": "stream",
     "text": [
      "<ipython-input-8-0bf6b69df72e>:12: UserWarning: linestyle is redundantly defined by the 'linestyle' keyword argument and the fmt string \"\" (-> linestyle='-'). The keyword argument will take precedence.\n",
      "  ax.plot(x, y, label, color=\"red\", marker=\"o\", linestyle=\"-\", markersize=markersize, linewidth=linewidth, markerfacecolor=\"red\", markeredgewidth=2, markeredgecolor=\"red\", markerfacecoloralt=\"red\")  # , x=\"x\", y=\"fwhm\")\n"
     ]
    },
    {
     "name": "stdout",
     "output_type": "stream",
     "text": [
      "T_c =  50.0\n"
     ]
    },
    {
     "name": "stderr",
     "output_type": "stream",
     "text": [
      "<ipython-input-8-0bf6b69df72e>:12: UserWarning: linestyle is redundantly defined by the 'linestyle' keyword argument and the fmt string \"\" (-> linestyle='-'). The keyword argument will take precedence.\n",
      "  ax.plot(x, y, label, color=\"red\", marker=\"o\", linestyle=\"-\", markersize=markersize, linewidth=linewidth, markerfacecolor=\"red\", markeredgewidth=2, markeredgecolor=\"red\", markerfacecoloralt=\"red\")  # , x=\"x\", y=\"fwhm\")\n"
     ]
    },
    {
     "name": "stdout",
     "output_type": "stream",
     "text": [
      "1369 : 2.0 K\n",
      "T_c =  2.0\n"
     ]
    },
    {
     "name": "stderr",
     "output_type": "stream",
     "text": [
      "<ipython-input-8-0bf6b69df72e>:12: UserWarning: linestyle is redundantly defined by the 'linestyle' keyword argument and the fmt string \"\" (-> linestyle='-'). The keyword argument will take precedence.\n",
      "  ax.plot(x, y, label, color=\"red\", marker=\"o\", linestyle=\"-\", markersize=markersize, linewidth=linewidth, markerfacecolor=\"red\", markeredgewidth=2, markeredgecolor=\"red\", markerfacecoloralt=\"red\")  # , x=\"x\", y=\"fwhm\")\n"
     ]
    },
    {
     "name": "stdout",
     "output_type": "stream",
     "text": [
      "T_c =  130.0\n"
     ]
    },
    {
     "name": "stderr",
     "output_type": "stream",
     "text": [
      "<ipython-input-8-0bf6b69df72e>:12: UserWarning: linestyle is redundantly defined by the 'linestyle' keyword argument and the fmt string \"\" (-> linestyle='-'). The keyword argument will take precedence.\n",
      "  ax.plot(x, y, label, color=\"red\", marker=\"o\", linestyle=\"-\", markersize=markersize, linewidth=linewidth, markerfacecolor=\"red\", markeredgewidth=2, markeredgecolor=\"red\", markerfacecoloralt=\"red\")  # , x=\"x\", y=\"fwhm\")\n"
     ]
    },
    {
     "name": "stdout",
     "output_type": "stream",
     "text": [
      "T_c =  160.0\n"
     ]
    },
    {
     "name": "stderr",
     "output_type": "stream",
     "text": [
      "<ipython-input-8-0bf6b69df72e>:12: UserWarning: linestyle is redundantly defined by the 'linestyle' keyword argument and the fmt string \"\" (-> linestyle='-'). The keyword argument will take precedence.\n",
      "  ax.plot(x, y, label, color=\"red\", marker=\"o\", linestyle=\"-\", markersize=markersize, linewidth=linewidth, markerfacecolor=\"red\", markeredgewidth=2, markeredgecolor=\"red\", markerfacecoloralt=\"red\")  # , x=\"x\", y=\"fwhm\")\n"
     ]
    },
    {
     "name": "stdout",
     "output_type": "stream",
     "text": [
      "T_c =  200.0\n"
     ]
    },
    {
     "data": {
      "image/png": "[encoded data removed]",
      "text/plain": [
       "<Figure size 360x288 with 1 Axes>"
      ]
     },
     "metadata": {
      "needs_background": "light"
     },
     "output_type": "display_data"
    },
    {
     "data": {
      "image/png": "[encoded data removed]",
      "text/plain": [
       "<Figure size 360x288 with 1 Axes>"
      ]
     },
     "metadata": {
      "needs_background": "light"
     },
     "output_type": "display_data"
    },
    {
     "data": {
      "image/png": "[encoded data removed]",
      "text/plain": [
       "<Figure size 360x288 with 1 Axes>"
      ]
     },
     "metadata": {
      "needs_background": "light"
     },
     "output_type": "display_data"
    },
    {
     "data": {
      "image/png": "[encoded data removed]",
      "text/plain": [
       "<Figure size 360x288 with 1 Axes>"
      ]
     },
     "metadata": {
      "needs_background": "light"
     },
     "output_type": "display_data"
    },
    {
     "data": {
      "image/png": "[encoded data removed]",
      "text/plain": [
       "<Figure size 360x288 with 1 Axes>"
      ]
     },
     "metadata": {
      "needs_background": "light"
     },
     "output_type": "display_data"
    },
    {
     "data": {
      "image/png": "[encoded data removed]",
      "text/plain": [
       "<Figure size 360x288 with 1 Axes>"
      ]
     },
     "metadata": {
      "needs_background": "light"
     },
     "output_type": "display_data"
    },
    {
     "data": {
      "image/png": "[encoded data removed]",
      "text/plain": [
       "<Figure size 360x288 with 1 Axes>"
      ]
     },
     "metadata": {
      "needs_background": "light"
     },
     "output_type": "display_data"
    },
    {
     "data": {
      "image/png": "[encoded data removed]",
      "text/plain": [
       "<Figure size 360x288 with 1 Axes>"
      ]
     },
     "metadata": {
      "needs_background": "light"
     },
     "output_type": "display_data"
    },
    {
     "data": {
      "image/png": "[encoded data removed]",
      "text/plain": [
       "<Figure size 360x288 with 1 Axes>"
      ]
     },
     "metadata": {
      "needs_background": "light"
     },
     "output_type": "display_data"
    }
   ],
   "source": [
    "plot_rho_yx_T(data, T_C_threshold)"
   ]
  },
  {
   "cell_type": "code",
   "execution_count": 12,
   "metadata": {},
   "outputs": [],
   "source": [
    "data[\"T_C\"][-4] = 120\n",
    "data[\"T_C\"][-3] = 150\n"
   ]
  },
  {
   "cell_type": "code",
   "execution_count": 15,
   "metadata": {},
   "outputs": [
    {
     "name": "stderr",
     "output_type": "stream",
     "text": [
      "<ipython-input-8-0bf6b69df72e>:12: UserWarning: linestyle is redundantly defined by the 'linestyle' keyword argument and the fmt string \"\" (-> linestyle='-'). The keyword argument will take precedence.\n",
      "  ax.plot(x, y, label, color=\"red\", marker=\"o\", linestyle=\"-\", markersize=markersize, linewidth=linewidth, markerfacecolor=\"red\", markeredgewidth=2, markeredgecolor=\"red\", markerfacecoloralt=\"red\")  # , x=\"x\", y=\"fwhm\")\n"
     ]
    },
    {
     "data": {
      "image/png": "[encoded data removed]",
      "text/plain": [
       "<Figure size 360x288 with 1 Axes>"
      ]
     },
     "metadata": {
      "needs_background": "light"
     },
     "output_type": "display_data"
    }
   ],
   "source": [
    "\n",
    "MIN_X = 0\n",
    "MAX_X = 0.1001\n",
    "X_STEP = 0.02\n",
    "SUB_X_STEP = X_STEP /2\n",
    "MIN_Y = 0\n",
    "MAX_Y = 250.001\n",
    "Y_STEP = 50\n",
    "SUB_Y_STEP = 25\n",
    "savepath = f\"/Users/uedataiga/Desktop/grad-research/data_analysis/Data/PPMS/summary/TC_x.png\"\n",
    "title = \"$T_C$ vs x (sample: 1354, 1364, 1365, 1360, 1362, 1369, 1370, 1361, 1357)\"\n",
    "\n",
    "plot(data[\"x\"], data[\"T_C\"], label=\"\", title=title, xlabel=\"Cr(x)\", ylabel=\"$T_C$ (K)\", \n",
    "     MIN_X=MIN_X, MAX_X=MAX_X, X_STEP=X_STEP, SUB_X_STEP=SUB_X_STEP, \n",
    "     MIN_Y=MIN_Y, MAX_Y=MAX_Y, Y_STEP=Y_STEP, SUB_Y_STEP=SUB_Y_STEP, savepath=savepath, hlines=False, figsize=(5,4),\n",
    "     suffix=\"\"\n",
    ")\n"
   ]
  },
  {
   "cell_type": "markdown",
   "metadata": {},
   "source": [
    "# c軸長を求めたい\n",
    "\n",
    "参考：The unit size of a QL is 10.17  Å in the case of Bi2Te3."
   ]
  },
  {
   "cell_type": "code",
   "execution_count": 7,
   "metadata": {},
   "outputs": [],
   "source": [
    "data[\"006_center_2theta\"] = [8.693, 8.693, 8.754, 8.730, 8.781, 8.846, 8.844] # ちゃんと2で割っている値\n",
    "data[\"0015_center_2theta\"] = [22.265, 22.258, 22.334, 22.341, 22.438, 22.597, 22.629]"
   ]
  },
  {
   "cell_type": "code",
   "execution_count": 28,
   "metadata": {},
   "outputs": [],
   "source": [
    "\n",
    "\n",
    "def detect_c_axis_length(data: Dict, target=\"006\"):\n",
    "    \"\"\"(006) or (0015)中心のthetaをθ_0，c軸長をd，x線の波長をλとすると，以下の式が成り立つ．\n",
    "    d = λ / (2 * sin(θ_0 / 2))\n",
    "    この式を用いてc軸長を計算する．\n",
    "\n",
    "    Args:\n",
    "        data (Dict): _description_\n",
    "    \"\"\"\n",
    "    new_data = data.copy()\n",
    "    new_data[f\"c_axis_length_{target}\"] = []\n",
    "    xrd_lambda = 1.540598  # Kα（カッパアルファ1）の波長\n",
    "    for i in range(len(data[\"sample\"])):\n",
    "        theta_0 = data[f\"{target}_center_2theta\"][i]\n",
    "        d = (3/5)*(xrd_lambda / (2 * np.sin(np.deg2rad(theta_0))))\n",
    "        if target == \"006\":\n",
    "            d = d\n",
    "        elif target == \"0015\":\n",
    "            d = d * (5/2)\n",
    "        new_data[f\"c_axis_length_{target}\"].append(d)\n",
    "    return new_data\n",
    "\n",
    "\n",
    "new_data = detect_c_axis_length(data, target=\"006\")\n",
    "new_data = detect_c_axis_length(new_data, target=\"0015\")"
   ]
  },
  {
   "cell_type": "code",
   "execution_count": 29,
   "metadata": {},
   "outputs": [
    {
     "data": {
      "text/plain": [
       "{'sample': ['1354', '1360', '1364', '1365', '1362', '1361', '1357'],\n",
       " 'dirname': ['230525_#1-1354',\n",
       "  '230719_#1-1359_#1-1360',\n",
       "  '231003_#1-1364_#1-1365',\n",
       "  '231003_#1-1364_#1-1365',\n",
       "  '230726_#1-1362',\n",
       "  '230720_#1-1361_#2-1421',\n",
       "  '230628_#1-1357(CBST)'],\n",
       " 'x': [0.0, 0.008, 0.012, 0.016, 0.02, 0.05, 0.08],\n",
       " 'MIN_X': [0, 0, 0, 0, 0, 0, 0],\n",
       " 'MAX_X': [300, 300, 300, 300, 300, 300, 300],\n",
       " 'X_STEP': [100, 100, 100, 100, 100, 100, 100],\n",
       " 'SUB_X_STEP': [50.0, 50.0, 50.0, 50.0, 50.0, 50.0, 50.0],\n",
       " 'MIN_Y': [-0.125, -100, -100, -100, -500, -100, -10],\n",
       " 'MAX_Y': [1, 2000, 1000, 3000, 4500, 400, 200],\n",
       " 'Y_STEP': [0.25, 500, 100, 500, 1000, 200, 50],\n",
       " 'SUB_Y_STEP': [0.125, 250.0, 50.0, 250.0, 500.0, 100.0, 25.0],\n",
       " 'T_C': [0.0, 14.0, 16.0, 25.0, 50.0, 160.0, 200.0],\n",
       " '006_center_2theta': [8.693, 8.693, 8.754, 8.73, 8.781, 8.846, 8.844],\n",
       " '0015_center_2theta': [22.265,\n",
       "  22.258,\n",
       "  22.334,\n",
       "  22.341,\n",
       "  22.438,\n",
       "  22.597,\n",
       "  22.629],\n",
       " 'c_axis_length_006': [3.0579544897032505,\n",
       "  3.0579544897032505,\n",
       "  3.0368102552423006,\n",
       "  3.045093901064423,\n",
       "  3.0275454932776062,\n",
       "  3.0054743268454214,\n",
       "  3.0061485825426204],\n",
       " 'c_axis_length_0015': [3.0495545513399684,\n",
       "  3.0504648564995525,\n",
       "  3.040612953620415,\n",
       "  3.0397090097458657,\n",
       "  3.0272426676945763,\n",
       "  3.0070463822560494,\n",
       "  3.003017039223756]}"
      ]
     },
     "execution_count": 29,
     "metadata": {},
     "output_type": "execute_result"
    }
   ],
   "source": [
    "new_data"
   ]
  },
  {
   "cell_type": "code",
   "execution_count": 30,
   "metadata": {},
   "outputs": [
    {
     "data": {
      "image/png": "[encoded data removed]",
      "text/plain": [
       "<Figure size 360x288 with 1 Axes>"
      ]
     },
     "metadata": {
      "needs_background": "light"
     },
     "output_type": "display_data"
    }
   ],
   "source": [
    "\n",
    "fig = plt.figure(figsize=(5, 4))\n",
    "# 4つのグラフを描画\n",
    "ax = fig.add_subplot(111)\n",
    "\n",
    "# # sort\n",
    "# x = np.array(new_data[\"x\"])\n",
    "# x = x[np.argsort(x)]\n",
    "# y = np.array(new_data[\"c_axis_length_0015\"])\n",
    "# y = y[np.argsort(x)]\n",
    "\n",
    "ax.plot(new_data[\"x\"], new_data[\"c_axis_length_0015\"], color=\"red\", marker=\"o\", linestyle=\"-\", markersize=3, linewidth=1, markerfacecolor=\"red\", markeredgewidth=2, markeredgecolor=\"red\", markerfacecoloralt=\"red\")  # , x=\"x\", y=\"fwhm\")\n",
    "# ax.plot(new_data[\"006_center_2theta\"], ], label=\"006_center_2theta\", color=\"red\", marker=\"o\", linestyle=\"-\", markersize=5, linewidth=2, markerfacecolor=\"red\", markeredgewidth=2, markeredgecolor=\"red\", markerfacecoloralt=\"red\")  # , x=\"x\", y=\"fwhm\")\n",
    "# ax.plot(new_data[\"x\"], new_data[\"0015_center_2theta\"], label=\"0015_center_2theta\", color=\"blue\", marker=\"o\", linestyle=\"-\", markersize=5, linewidth=2, markerfacecolor=\"blue\", markeredgewidth=2, markeredgecolor=\"blue\", markerfacecoloralt=\"blue\")  # , x=\"x\", y=\"fwhm\")\n",
    "# # plt.legend()\n",
    "\n",
    "# ax.set_xlabel(\"(006) peak $\\theta$ (degree)\", size=14, weight=\"light\")\n",
    "ax.set_xlabel(\"Cr(x)\", size=14, weight=\"light\")\n",
    "ax.set_ylabel(\"c axis length (nm)\", size=14, weight=\"light\")\n",
    "# ax.set_title(\"c axis length vs x\", fontsize=16)\n",
    "\n",
    "MIN_X = 0\n",
    "MAX_X = 0.1\n",
    "X_STEP = 0.025\n",
    "SUB_X_STEP = 0.0125\n",
    "MIN_Y = 3.0\n",
    "MAX_Y = 3.06\n",
    "Y_STEP = 0.025\n",
    "SUB_Y_STEP = 0.0125\n",
    "# x軸の目盛設定\n",
    "ax.set_xlim(MIN_X, MAX_X)\n",
    "ax.set_xticks(np.arange(MIN_X, MAX_X, step=X_STEP))\n",
    "# y軸の目盛設定\n",
    "ax.set_ylim(MIN_Y, MAX_Y)\n",
    "ax.set_yticks(np.arange(MIN_Y, MAX_Y, step=Y_STEP))\n",
    "# 副目盛りの設定\n",
    "ax.minorticks_on()\n",
    "ax.tick_params(which=\"minor\", direction=\"in\", length=5, colors=\"black\")\n",
    "ax.set_xticks(np.arange(MIN_X, MAX_X, step=SUB_X_STEP), minor=True)\n",
    "ax.set_yticks(np.arange(MIN_Y, MAX_Y, step=SUB_Y_STEP), minor=True)\n",
    "# メモリを上下左右に設定\n",
    "# 目盛方向を両側, 目盛の長さを5ポイント, 目盛と目盛ラベルの色\n",
    "ax.tick_params(direction=\"in\", length=10, colors=\"black\", width=1)\n",
    "# ax.secondary_xaxis('top')\n",
    "# ax.secondary_yaxis('right')\n",
    "ax.yaxis.set_ticks_position('both')\n",
    "ax.xaxis.set_ticks_position('both')\n",
    "title = \"c axis length vs x (sample: 1354, 1364, 1365, 1360, 1362, 1361, 1357)\"\n",
    "ax.set_title(title)\n",
    "plt.savefig(f\"/Users/uedataiga/Desktop/grad-research/data_analysis/Data/PPMS/summary/cAxisLength_x.png\", dpi=300, bbox_inches='tight', transparent=True)\n",
    "plt.show()\n",
    "\n",
    "# ax.plot(new_data[\"0015_center_2theta\"], new_data[\"c_axis_length_0015\"], label=\"0015_center_2theta\", color=\"blue\", marker=\"o\", linestyle=\"-\", markersize=5, linewidth=2, markerfacecolor=\"blue\", markeredgewidth=2, markeredgecolor=\"blue\", markerfacecoloralt=\"blue\")  # , x=\"x\", y=\"fwhm\")\n"
   ]
  },
  {
   "cell_type": "code",
   "execution_count": 31,
   "metadata": {},
   "outputs": [
    {
     "data": {
      "text/plain": [
       "{'sample': ['1354', '1360', '1364', '1365', '1362', '1361', '1357'],\n",
       " 'dirname': ['230525_#1-1354',\n",
       "  '230719_#1-1359_#1-1360',\n",
       "  '231003_#1-1364_#1-1365',\n",
       "  '231003_#1-1364_#1-1365',\n",
       "  '230726_#1-1362',\n",
       "  '230720_#1-1361_#2-1421',\n",
       "  '230628_#1-1357(CBST)'],\n",
       " 'x': [0.0, 0.008, 0.012, 0.016, 0.02, 0.05, 0.08],\n",
       " 'MIN_X': [0, 0, 0, 0, 0, 0, 0],\n",
       " 'MAX_X': [300, 300, 300, 300, 300, 300, 300],\n",
       " 'X_STEP': [100, 100, 100, 100, 100, 100, 100],\n",
       " 'SUB_X_STEP': [50.0, 50.0, 50.0, 50.0, 50.0, 50.0, 50.0],\n",
       " 'MIN_Y': [-0.125, -100, -100, -100, -500, -100, -10],\n",
       " 'MAX_Y': [1, 2000, 1000, 3000, 4500, 400, 200],\n",
       " 'Y_STEP': [0.25, 500, 100, 500, 1000, 200, 50],\n",
       " 'SUB_Y_STEP': [0.125, 250.0, 50.0, 250.0, 500.0, 100.0, 25.0],\n",
       " 'T_C': [0.0, 14.0, 16.0, 25.0, 50.0, 160.0, 200.0],\n",
       " '006_center_2theta': [8.693, 8.693, 8.754, 8.73, 8.781, 8.846, 8.844],\n",
       " '0015_center_2theta': [22.265,\n",
       "  22.258,\n",
       "  22.334,\n",
       "  22.341,\n",
       "  22.438,\n",
       "  22.597,\n",
       "  22.629],\n",
       " 'c_axis_length_006': [3.0579544897032505,\n",
       "  3.0579544897032505,\n",
       "  3.0368102552423006,\n",
       "  3.045093901064423,\n",
       "  3.0275454932776062,\n",
       "  3.0054743268454214,\n",
       "  3.0061485825426204],\n",
       " 'c_axis_length_0015': [3.0495545513399684,\n",
       "  3.0504648564995525,\n",
       "  3.040612953620415,\n",
       "  3.0397090097458657,\n",
       "  3.0272426676945763,\n",
       "  3.0070463822560494,\n",
       "  3.003017039223756]}"
      ]
     },
     "execution_count": 31,
     "metadata": {},
     "output_type": "execute_result"
    }
   ],
   "source": [
    "new_data"
   ]
  },
  {
   "cell_type": "code",
   "execution_count": 32,
   "metadata": {},
   "outputs": [
    {
     "data": {
      "image/png": "[encoded data removed]",
      "text/plain": [
       "<Figure size 288x288 with 1 Axes>"
      ]
     },
     "metadata": {
      "needs_background": "light"
     },
     "output_type": "display_data"
    }
   ],
   "source": [
    "\n",
    "fig = plt.figure(figsize=(4, 4))\n",
    "# 4つのグラフを描画\n",
    "ax = fig.add_subplot(111)\n",
    "\n",
    "ax.plot(new_data[\"c_axis_length_0015\"], new_data[\"T_C\"], color=\"red\", marker=\"o\", linestyle=\"-\", markersize=2, linewidth=1, markerfacecolor=\"red\", markeredgewidth=2, markeredgecolor=\"red\", markerfacecoloralt=\"red\")  # , x=\"x\", y=\"fwhm\")\n",
    "# ax.plot(new_data[\"006_center_2theta\"], ], label=\"006_center_2theta\", color=\"red\", marker=\"o\", linestyle=\"-\", markersize=5, linewidth=2, markerfacecolor=\"red\", markeredgewidth=2, markeredgecolor=\"red\", markerfacecoloralt=\"red\")  # , x=\"x\", y=\"fwhm\")\n",
    "# ax.plot(new_data[\"x\"], new_data[\"0015_center_2theta\"], label=\"0015_center_2theta\", color=\"blue\", marker=\"o\", linestyle=\"-\", markersize=5, linewidth=2, markerfacecolor=\"blue\", markeredgewidth=2, markeredgecolor=\"blue\", markerfacecoloralt=\"blue\")  # , x=\"x\", y=\"fwhm\")\n",
    "# # plt.legend()\n",
    "\n",
    "# ax.set_xlabel(\"(006) peak $\\theta$ (degree)\", size=14, weight=\"light\")\n",
    "\n",
    "ax.set_xlabel(\"c axis length (nm)\", size=14, weight=\"light\")\n",
    "ax.set_ylabel(\"$T_C$ (K)\", size=14, weight=\"light\")\n",
    "# ax.set_title(\"$T_C$ vs c axis length\", fontsize=16)\n",
    "\n",
    "MIN_X = 3.0\n",
    "MAX_X = 3.06125\n",
    "X_STEP = 0.025\n",
    "SUB_X_STEP = 0.025\n",
    "MIN_Y = 0\n",
    "MAX_Y = 300\n",
    "Y_STEP = 50\n",
    "SUB_Y_STEP = 25\n",
    "\n",
    "# x軸の目盛設定\n",
    "ax.set_xlim(MIN_X, MAX_X)\n",
    "ax.set_xticks(np.arange(MIN_X, MAX_X, step=X_STEP))\n",
    "# y軸の目盛設定\n",
    "ax.set_ylim(MIN_Y, MAX_Y)\n",
    "ax.set_yticks(np.arange(MIN_Y, MAX_Y, step=Y_STEP))\n",
    "# 副目盛りの設定\n",
    "ax.minorticks_on()\n",
    "ax.tick_params(which=\"minor\", direction=\"in\", length=5, colors=\"black\")\n",
    "ax.set_xticks(np.arange(MIN_X, MAX_X, step=SUB_X_STEP), minor=True)\n",
    "ax.set_yticks(np.arange(MIN_Y, MAX_Y, step=SUB_Y_STEP), minor=True)\n",
    "# メモリを上下左右に設定\n",
    "# 目盛方向を両側, 目盛の長さを5ポイント, 目盛と目盛ラベルの色\n",
    "ax.tick_params(direction=\"in\", length=10, colors=\"black\", width=1)\n",
    "# ax.secondary_xaxis('top')\n",
    "# ax.secondary_yaxis('right')\n",
    "ax.yaxis.set_ticks_position('both')\n",
    "ax.xaxis.set_ticks_position('both')\n",
    "# pprint(new_data)\n",
    "title = \"$T_C$ vs c axis length (sample: 1354, 1364, 1365, 1360, 1362, 1361, 1357)\"\n",
    "ax.set_title(title)\n",
    "plt.savefig(f\"/Users/uedataiga/Desktop/grad-research/data_analysis/Data/PPMS/summary/TC_cAxisLength.png\", dpi=300, bbox_inches='tight', transparent=True)\n",
    "plt.show()\n",
    "\n",
    "# ax.plot(new_data[\"0015_center_2theta\"], new_data[\"c_axis_length_0015\"], label=\"0015_center_2theta\", color=\"blue\", marker=\"o\", linestyle=\"-\", markersize=5, linewidth=2, markerfacecolor=\"blue\", markeredgewidth=2, markeredgecolor=\"blue\", markerfacecoloralt=\"blue\")  # , x=\"x\", y=\"fwhm\")\n"
   ]
  },
  {
   "cell_type": "code",
   "execution_count": null,
   "metadata": {},
   "outputs": [],
   "source": []
  },
  {
   "cell_type": "code",
   "execution_count": null,
   "metadata": {},
   "outputs": [],
   "source": []
  }
 ],
 "metadata": {
  "kernelspec": {
   "display_name": "Python 3",
   "language": "python",
   "name": "python3"
  },
  "language_info": {
   "codemirror_mode": {
    "name": "ipython",
    "version": 3
   },
   "file_extension": ".py",
   "mimetype": "text/x-python",
   "name": "python",
   "nbconvert_exporter": "python",
   "pygments_lexer": "ipython3",
   "version": "3.8.2"
  },
  "orig_nbformat": 4
 },
 "nbformat": 4,
 "nbformat_minor": 2
}
