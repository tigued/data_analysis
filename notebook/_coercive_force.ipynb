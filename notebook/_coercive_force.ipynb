{
 "cells": [
  {
   "cell_type": "code",
   "execution_count": 29,
   "metadata": {},
   "outputs": [
    {
     "data": {
      "text/plain": [
       "PosixPath('/Users/uedataiga/Desktop/grad-research/data_analysis/Data/PPMS')"
      ]
     },
     "execution_count": 29,
     "metadata": {},
     "output_type": "execute_result"
    }
   ],
   "source": [
    "import numpy as np\n",
    "\n",
    "import pandas as pd\n",
    "import os\n",
    "import sys\n",
    "import re\n",
    "import glob\n",
    "import seaborn as sns\n",
    "from pathlib import Path\n",
    "import os\n",
    "from pprint import pprint\n",
    "from typing import List, Tuple, Dict, Union, Optional\n",
    "\n",
    "import matplotlib.pyplot as plt\n",
    "import matplotlib as mpl\n",
    "plt.rcParams[\"font.family\"] = \"Arial\"  # \"Times New Roman\"      #全体のフォントを設定\n",
    "plt.rcParams[\"xtick.direction\"] = \"in\"  # x軸の目盛線を内向きへ\n",
    "plt.rcParams[\"ytick.direction\"] = \"in\"  # y軸の目盛線を内向きへ\n",
    "plt.rcParams[\"xtick.minor.visible\"] = True  # x軸補助目盛りの追加\n",
    "plt.rcParams[\"ytick.minor.visible\"] = True  # y軸補助目盛りの追加\n",
    "# plt.rcParams[\"xtick.major.width\"] = 1.5              #x軸主目盛り線の線幅\n",
    "# plt.rcParams[\"ytick.major.width\"] = 1.5              #y軸主目盛り線の線幅\n",
    "# plt.rcParams[\"xtick.minor.width\"] = 1.0              #x軸補助目盛り線の線幅\n",
    "# plt.rcParams[\"ytick.minor.width\"] = 1.0              #y軸補助目盛り線の線幅\n",
    "plt.rcParams[\"xtick.major.size\"] = 10  # x軸主目盛り線の長さ\n",
    "plt.rcParams[\"ytick.major.size\"] = 10  # y軸主目盛り線の長さ\n",
    "plt.rcParams[\"xtick.minor.size\"] = 5  # x軸補助目盛り線の長さ\n",
    "plt.rcParams[\"ytick.minor.size\"] = 5  # y軸補助目盛り線の長さ\n",
    "plt.rcParams[\"font.size\"] = 14  # フォントの大きさ\n",
    "plt.rcParams[\"axes.linewidth\"] = 1  # 囲みの太さ\n",
    "plt.rcParams[\"figure.figsize\"] = [5, 4]\n",
    "# 目盛方向を両側, 目盛の長さを5ポイント, 目盛と目盛ラベルの色\n",
    "# ax.tick_params(direction=\"in\", length=10, colors=\"black\", width=1)\n",
    "plt.rcParams[\"xtick.top\"] = True\n",
    "plt.rcParams[\"ytick.right\"] = True\n",
    "\n",
    "# 目盛りの上限，下限用\n",
    "from decimal import Decimal, ROUND_DOWN, ROUND_UP, ROUND_HALF_UP, getcontext\n",
    "# getcontext().prec = 3\n",
    "# ROUND = 2\n",
    "def round_down(val, digits=0):\n",
    "    if val >= 0:\n",
    "        return float(Decimal(val).quantize(Decimal('1e%s' % (-digits)), rounding=ROUND_DOWN))\n",
    "    else:\n",
    "        return float(Decimal(val).quantize(Decimal('1e%s' % (-digits)), rounding=ROUND_UP))\n",
    "def round_up(val, digits=0):\n",
    "    if val >= 0:\n",
    "        return float(Decimal(val).quantize(Decimal('1e%s' % (-digits)), rounding=ROUND_UP))\n",
    "    else:\n",
    "        return float(Decimal(val).quantize(Decimal('1e%s' % (-digits)), rounding=ROUND_DOWN))\n",
    "\n",
    "# def search_min_max_step_substep(vals: np.array, mn = None, mx = None, substep_num: int = 2):\n",
    "#     \"\"\"良さげな最小値，最大値，ステップ，サブステップを探す\n",
    "#     未検証\n",
    "\n",
    "#     Args:\n",
    "#         vals (np.array): _description_\n",
    "#         substep_num (int, optional): _description_. Defaults to 2.\n",
    "\n",
    "#     Raises:\n",
    "#         ValueError: _description_\n",
    "\n",
    "#     Returns:\n",
    "#         _type_: _description_\n",
    "#     \"\"\"\n",
    "#     if mn is None and mx is None:\n",
    "#         rnd = 1\n",
    "#         val_min = np.min(vals)\n",
    "#         val_max = np.max(vals)\n",
    "#         val_down = round_down(val_min, digits=rnd)\n",
    "#         val_up = round_up(val_max, digits=rnd)\n",
    "#         while (rnd < 10) or ((val_max - val_min) / (val_up - val_down) < 0.2):\n",
    "#             val_down = round_down(val_min, digits=rnd)\n",
    "#             val_up = round_up(val_max, digits=rnd)\n",
    "#             rnd += 1\n",
    "#         if rnd == 10:\n",
    "#             raise ValueError(\"Error: too many digits\")\n",
    "#     elif mn is None and mx is not None: # 工事中\n",
    "#         pass\n",
    "#     elif mn is not None and mx is None: # 工事中\n",
    "#         pass\n",
    "#     else: # 工事中\n",
    "#         pass\n",
    "#     # min_str, max_str = str(val_down), str(val_up)\n",
    "#     # idx = 0\n",
    "#     # while min_str[idx] != max_str[idx]:\n",
    "#     #     idx += 1\n",
    "#     step_candidate = [4, 3, 2]\n",
    "#     step = None\n",
    "#     for stp in step_candidate:\n",
    "#         if float(val_up - val_down)*(rnd+1) % stp == 0:\n",
    "#             step = stp\n",
    "#             break\n",
    "#     if step is None:\n",
    "#         step = 5\n",
    "#     substep = step / substep_num\n",
    "#     return val_down, val_up, step, substep\n",
    "\n",
    "\n",
    "DIR = Path(\"/Users/uedataiga/Desktop/grad-research/data_analysis/Data/PPMS\")\n",
    "DIR"
   ]
  },
  {
   "cell_type": "code",
   "execution_count": 94,
   "metadata": {},
   "outputs": [],
   "source": [
    "\n",
    "def plot(x, y, label, xlabel, ylabel, MIN_X=None, MAX_X=None, X_STEP=None, SUB_X_STEP=None, MIN_Y=None, MAX_Y=None, Y_STEP=None, SUB_Y_STEP=None, savepath=\"\", hlines=True, figsize=(2.5*1.5, 2*1.5), title=\"\", suffix=\"\"):\n",
    "    \"\"\"\n",
    "    \"\"\"\n",
    "    MAX_X += 1e-10\n",
    "    MAX_Y += 1e-10\n",
    "    suffix = suffix\n",
    "    # Figureを設定\n",
    "    fig = plt.figure(figsize=figsize)\n",
    "    # Axesを追加\n",
    "    ax = fig.add_subplot(111)\n",
    "    ax.plot(x, y, label, color=\"red\", marker=\"o\", linestyle=\"-\", markersize=3, linewidth=1, markerfacecolor=\"red\", markeredgewidth=2, markeredgecolor=\"red\", markerfacecoloralt=\"red\")  # , x=\"x\", y=\"fwhm\")\n",
    "    if hlines:\n",
    "        ax.hlines(0, 0, MAX_Y, color='black', linestyles='dotted')\n",
    "    else:\n",
    "        pass\n",
    "\n",
    "    # plt.show()\n",
    "    # Axesのタイトルの設定\n",
    "    ax.set_title(title)\n",
    "    # 軸ラベルの設定\n",
    "    ax.set_xlabel(xlabel, weight=\"light\")\n",
    "    ax.set_ylabel(ylabel, weight=\"light\")\n",
    "    # x軸の目盛設定\n",
    "    # 入力がNoneなら，データの有効数字2桁で児童設定→したかったが，かなり難しい\n",
    "    ax.set_xlim(MIN_X, MAX_X)\n",
    "    ax.set_xticks(np.arange(MIN_X, MAX_X, step=X_STEP))\n",
    "    # y軸の目盛設定\n",
    "    ax.set_ylim(MIN_Y, MAX_Y)\n",
    "    ax.set_yticks(np.arange(0, MAX_Y, step=Y_STEP))\n",
    "    # 副目盛りの設定\n",
    "    ax.minorticks_on()\n",
    "    ax.tick_params(which=\"minor\", direction=\"in\", length=5, colors=\"black\")\n",
    "    ax.set_xticks(np.arange(MIN_X, MAX_X, step=SUB_X_STEP), minor=True)\n",
    "    ax.set_yticks(np.arange(0, MAX_Y, step=SUB_Y_STEP), minor=True)\n",
    "    savepath = str(savepath).replace(\".png\", f\"{suffix}.png\")\n",
    "    plt.savefig(savepath, dpi=300, bbox_inches='tight', transparent=True)\n"
   ]
  },
  {
   "cell_type": "code",
   "execution_count": 96,
   "metadata": {},
   "outputs": [
    {
     "name": "stdout",
     "output_type": "stream",
     "text": [
      "1360\n",
      "1364\n",
      "1365\n",
      "1362\n",
      "1361\n",
      "1357\n",
      "{'sample': ['1360', '1364', '1365', '1362', '1361', '1357'], 'dirname': ['230719_#1-1359_#1-1360', '231003_#1-1364_#1-1365', '231003_#1-1364_#1-1365', '230726_#1-1362', '230720_#1-1361_#2-1421', '230628_#1-1357(CBST)'], 'x': [0.008, 0.012, 0.016, 0.02, 0.05, 0.08], 'H_c': [0.03174499609375, 0.0809447763671875, 0.0302332280273438, 0.0777958718261719, 0.2329408359375, 0.431263751953125], 'rho_yx_0T': [2763.121235351565, 6891.845848610912, 2692.329456204843, 4274.611469465119, 371.3791232161362, 94.0339269648727], 'temps': ['2.1K', '2.0K', '2.0K', '2.1K', '2.1K', '2.0K']}\n"
     ]
    },
    {
     "name": "stderr",
     "output_type": "stream",
     "text": [
      "<ipython-input-94-b41a595ab42a>:11: UserWarning: marker is redundantly defined by the 'marker' keyword argument and the fmt string \"o\" (-> marker='o'). The keyword argument will take precedence.\n",
      "  ax.plot(x, y, label, color=\"red\", marker=\"o\", linestyle=\"-\", markersize=3, linewidth=1, markerfacecolor=\"red\", markeredgewidth=2, markeredgecolor=\"red\", markerfacecoloralt=\"red\")  # , x=\"x\", y=\"fwhm\")\n"
     ]
    },
    {
     "data": {
      "image/png": "[encoded data removed]",
      "text/plain": [
       "<Figure size 270x216 with 1 Axes>"
      ]
     },
     "metadata": {
      "needs_background": "light"
     },
     "output_type": "display_data"
    },
    {
     "data": {
      "image/png": "[encoded data removed]",
      "text/plain": [
       "<Figure size 270x216 with 1 Axes>"
      ]
     },
     "metadata": {
      "needs_background": "light"
     },
     "output_type": "display_data"
    }
   ],
   "source": [
    "data = {\n",
    "    \"sample\": [\"1360\", \"1364\", \"1365\", \"1362\", \"1361\", \"1357\"],\n",
    "    \"dirname\": [\"230719_#1-1359_#1-1360\", \"231003_#1-1364_#1-1365\", \"231003_#1-1364_#1-1365\", \"230726_#1-1362\", \"230720_#1-1361_#2-1421\", \"230628_#1-1357(CBST)\"],\n",
    "    \"x\": [0.008, 0.012, 0.016, 0.02, 0.05, 0.08],\n",
    "    \"H_c\": [],\n",
    "    \"rho_yx_0T\": [],\n",
    "    \"temps\": []\n",
    "}\n",
    "\n",
    "for i in range(len(data[\"sample\"])):\n",
    "    SAMPLE = data[\"sample\"][i]\n",
    "    print(SAMPLE)\n",
    "    MIN_X = 0\n",
    "    MAX_X = 0.1\n",
    "    X_STEP = 0.025\n",
    "    SUB_X_STEP = X_STEP / 2\n",
    "    dirname = data[\"dirname\"][i]\n",
    "    x = data[\"x\"][i]\n",
    "    dirpath = DIR / f\"{dirname}/{SAMPLE}\"\n",
    "\n",
    "\n",
    "    globpath = glob.glob(str(dirpath / \"Hall_2.*.csv\"))\n",
    "    df = pd.read_csv(globpath[0])\n",
    "\n",
    "    # 保磁力H_c: Ryx_uの絶対値が0に最も近いときのB_ref_u\n",
    "    # あるいは反対照化しているので同じだが，Ryx_dの絶対値が0に最も近いときのB_ref_dの絶対値\n",
    "    # H_c = df[\"B_ref_u\"][(np.abs(df[\"B_ref_u\"]) <= 1.0) & (np.abs(df[\"Ryx_u\"]).argmin())]\n",
    "    df_tmp = df[(np.abs(df[\"B_ref_u\"]) <= 1.0)]\n",
    "    # print(df_tmp)\n",
    "    # print(np.abs(df_tmp[\"Ryx_u\"]).argmin())\n",
    "    H_c = df_tmp[\"B_ref_u\"].iloc[np.abs(df_tmp[\"Ryx_u\"]).argmin()]\n",
    "\n",
    "    # 飽和抵抗率ρ_yx_0T: B_ref_dの絶対値が0に近いときのRyx_dの値\n",
    "    # あるいは反対照化しているので同じだが，B_ref_uの絶対値が0に近いときのRyx_uの絶対値\n",
    "    rho_yx_0T = df[\"Ryx_d\"][np.abs(df[\"B_ref_d\"]).argmin()]\n",
    "\n",
    "    data[\"H_c\"].append(H_c)\n",
    "    data[\"rho_yx_0T\"].append(rho_yx_0T)\n",
    "    data[\"temps\"].append(globpath[0].split(\"_\")[-1].replace(\".csv\", \"\"))\n",
    "\n",
    "print(data)\n",
    "\n",
    "savepath_H_c = DIR / f\"summary/coercive_force.png\"\n",
    "savepath_rho_yx_0T = DIR / f\"summary/rho_yx_0T.png\"\n",
    "# plot coersive force\n",
    "MIN_X = 0\n",
    "MAX_X = 0.1\n",
    "X_STEP = 0.02\n",
    "SUB_X_STEP = X_STEP / 2\n",
    "MIN_Y = 0\n",
    "MAX_Y = 1\n",
    "Y_STEP = 0.25\n",
    "SUB_Y_STEP = Y_STEP / 2\n",
    "plot(data[\"x\"], data[\"H_c\"], \"o\", \"x\", \"B (T)\", MIN_X, MAX_X, X_STEP, SUB_X_STEP, MIN_Y, MAX_Y, Y_STEP, SUB_Y_STEP, savepath_H_c, hlines=False, title=\"coercive force\", suffix=\"\")\n",
    "\n",
    "# plot rho_yx_0T\n",
    "MIN_Y = 0\n",
    "MAX_Y = 10\n",
    "Y_STEP = 2.5\n",
    "SUB_Y_STEP = Y_STEP / 2\n",
    "data_rho_yx_0T = np.array(data[\"rho_yx_0T\"]) * 1e-3\n",
    "plot(data[\"x\"], data_rho_yx_0T, \"o\", \"x\", r\"$\\rho_{yx}$ (kΩ)\", MIN_X, MAX_X, X_STEP, SUB_X_STEP, MIN_Y, MAX_Y, Y_STEP, SUB_Y_STEP, savepath_rho_yx_0T, hlines=False, title=r\"saturation $ \\rho_{yx}$ at B = 0 T\", suffix=\"\")"
   ]
  },
  {
   "cell_type": "code",
   "execution_count": 73,
   "metadata": {},
   "outputs": [
    {
     "data": {
      "text/plain": [
       "{'sample': ['1360', '1364', '1365', '1362', '1361', '1357'],\n",
       " 'dirname': ['230719_#1-1359_#1-1360',\n",
       "  '231003_#1-1364_#1-1365',\n",
       "  '231003_#1-1364_#1-1365',\n",
       "  '230726_#1-1362',\n",
       "  '230720_#1-1361_#2-1421',\n",
       "  '230628_#1-1357(CBST)'],\n",
       " 'x': [0.008, 0.012, 0.016, 0.02, 0.05, 0.08],\n",
       " 'H_c': [-7.550069250000001,\n",
       "  0.0809447763671875,\n",
       "  0.0302332280273438,\n",
       "  0.0777958718261719,\n",
       "  0.2329408359375,\n",
       "  0.431263751953125],\n",
       " 'rho_yx_0T': [2763.121235351565,\n",
       "  6891.845848610912,\n",
       "  2692.329456204843,\n",
       "  4274.611469465119,\n",
       "  371.3791232161362,\n",
       "  94.0339269648727],\n",
       " 'temps': ['2.1K', '2.0K', '2.0K', '2.1K', '2.1K', '2.0K']}"
      ]
     },
     "execution_count": 73,
     "metadata": {},
     "output_type": "execute_result"
    }
   ],
   "source": [
    "data"
   ]
  }
 ],
 "metadata": {
  "kernelspec": {
   "display_name": "Python 3",
   "language": "python",
   "name": "python3"
  },
  "language_info": {
   "codemirror_mode": {
    "name": "ipython",
    "version": 3
   },
   "file_extension": ".py",
   "mimetype": "text/x-python",
   "name": "python",
   "nbconvert_exporter": "python",
   "pygments_lexer": "ipython3",
   "version": "3.8.2"
  },
  "orig_nbformat": 4
 },
 "nbformat": 4,
 "nbformat_minor": 2
}
