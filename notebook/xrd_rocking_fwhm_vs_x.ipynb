{
 "cells": [
  {
   "cell_type": "markdown",
   "metadata": {},
   "source": [
    "# fwhmのCr濃度依存性を求める（）"
   ]
  },
  {
   "cell_type": "code",
   "execution_count": 5,
   "metadata": {},
   "outputs": [],
   "source": [
    "import numpy as np\n",
    "import matplotlib.pyplot as plt\n",
    "import matplotlib as mpl\n",
    "import pandas as pd\n",
    "import os\n",
    "import sys\n",
    "import re\n",
    "import glob\n",
    "import seaborn as sns\n",
    "plt.rcParams[\"font.family\"] = \"Arial\" # \"Times New Roman\"      #全体のフォントを設定\n",
    "plt.rcParams[\"xtick.direction\"] = \"in\"  # x軸の目盛線を内向きへ\n",
    "plt.rcParams[\"ytick.direction\"] = \"in\"  # y軸の目盛線を内向きへ\n",
    "plt.rcParams[\"xtick.minor.visible\"] = True  # x軸補助目盛りの追加\n",
    "plt.rcParams[\"ytick.minor.visible\"] = True  # y軸補助目盛りの追加\n",
    "# plt.rcParams[\"xtick.major.width\"] = 1.5              #x軸主目盛り線の線幅\n",
    "# plt.rcParams[\"ytick.major.width\"] = 1.5              #y軸主目盛り線の線幅\n",
    "# plt.rcParams[\"xtick.minor.width\"] = 1.0              #x軸補助目盛り線の線幅\n",
    "# plt.rcParams[\"ytick.minor.width\"] = 1.0              #y軸補助目盛り線の線幅\n",
    "plt.rcParams[\"xtick.major.size\"] = 10  # x軸主目盛り線の長さ\n",
    "plt.rcParams[\"ytick.major.size\"] = 10  # y軸主目盛り線の長さ\n",
    "plt.rcParams[\"xtick.minor.size\"] = 5  # x軸補助目盛り線の長さ\n",
    "plt.rcParams[\"ytick.minor.size\"] = 5  # y軸補助目盛り線の長さ\n",
    "plt.rcParams[\"font.size\"] = 12  # フォントの大きさ\n",
    "plt.rcParams[\"axes.linewidth\"] = 1  # 囲みの太さ\n",
    "plt.rcParams[\"figure.figsize\"] = [5, 4]\n",
    "# 目盛方向を両側, 目盛の長さを5ポイント, 目盛と目盛ラベルの色\n",
    "# ax.tick_params(direction=\"in\", length=10, colors=\"black\", width=1)\n",
    "plt.rcParams[\"xtick.top\"] = True\n",
    "plt.rcParams[\"ytick.right\"] = True\n"
   ]
  },
  {
   "cell_type": "code",
   "execution_count": 6,
   "metadata": {},
   "outputs": [],
   "source": [
    "\n",
    "def plot(x, y, label, xlabel, ylabel, title, MIN_X, MAX_X, X_STEP, SUB_X_STEP, MIN_Y, MAX_Y, Y_STEP, SUB_Y_STEP, savepath, hlines=True):\n",
    "    \"\"\"\n",
    "    \"\"\"\n",
    "\n",
    "    # Figureを設定\n",
    "    fig = plt.figure()\n",
    "    # Axesを追加\n",
    "    ax = fig.add_subplot(111)\n",
    "    ax.plot(x, y, label, color=\"red\", marker=\"o\", linestyle=\"-\", markersize=3, linewidth=1, markerfacecolor=\"red\", markeredgewidth=2, markeredgecolor=\"red\", markerfacecoloralt=\"red\")  # , x=\"x\", y=\"fwhm\")\n",
    "    if hlines:\n",
    "        ax.hlines(0, 0, MAX_Y, color='black', linestyles='dotted')\n",
    "    else:\n",
    "        pass\n",
    "\n",
    "    # plt.show()\n",
    "    # Axesのタイトルの設定\n",
    "    ax.set_title(title)\n",
    "    # 軸ラベルの設定\n",
    "    ax.set_xlabel(xlabel, weight=\"light\")\n",
    "    ax.set_ylabel(ylabel, weight=\"light\")\n",
    "    # x軸の目盛設定\n",
    "    ax.set_xlim(MIN_X, MAX_X)\n",
    "    ax.set_xticks(np.arange(MIN_X, MAX_X, step=X_STEP))\n",
    "    # y軸の目盛設定\n",
    "    ax.set_ylim(MIN_Y, MAX_Y)\n",
    "    ax.set_yticks(np.arange(0, MAX_Y, step=Y_STEP))\n",
    "    # 副目盛りの設定\n",
    "    ax.minorticks_on()\n",
    "    ax.tick_params(which=\"minor\", direction=\"in\", length=5, colors=\"black\")\n",
    "    ax.set_xticks(np.arange(MIN_X, MAX_X, step=SUB_X_STEP), minor=True)\n",
    "    ax.set_yticks(np.arange(0, MAX_Y, step=SUB_Y_STEP), minor=True)\n",
    "    plt.savefig(savepath, dpi=300, bbox_inches='tight')\n"
   ]
  },
  {
   "cell_type": "code",
   "execution_count": 7,
   "metadata": {},
   "outputs": [
    {
     "data": {
      "image/png": "[encoded data removed]",
      "text/plain": [
       "<Figure size 360x288 with 1 Axes>"
      ]
     },
     "metadata": {
      "needs_background": "light"
     },
     "output_type": "display_data"
    }
   ],
   "source": [
    "data_006 = {\n",
    "    \"sample\": [\"#1-1354\", \"#1-1360\", \"#1-1359\", \"#1-1361\", \"#1-1357\"],\n",
    "    \"x\": [0.0, 0.008, 0.02, 0.05, 0.077],\n",
    "    \"fwhm\": [0.130, 0.127, 0.201, 0.501, 0.669],\n",
    "    \"center\": [8.693, 8.693, 8.781, 8.846, 8.844]\n",
    "}\n",
    "data_0015 = {\n",
    "    \"sample\": data_006[\"sample\"],\n",
    "    \"x\": data_006[\"x\"],\n",
    "    \"fwhm\": [0.102, 0.109, 0.135, 0.342, 0.589],\n",
    "    \"center\": [22.265, 22.258, 22.438, 22.597, 22.629]\n",
    "}\n",
    "\n",
    "# Figureを設定\n",
    "fig = plt.figure()\n",
    "# Axesを追加\n",
    "ax = fig.add_subplot(111)\n",
    "ax.plot(data_006[\"x\"], data_006[\"fwhm\"], label=\"(006)\", color=\"red\", marker=\"o\", linestyle=\"-\", markersize=5, linewidth=2, markerfacecolor=\"red\", markeredgewidth=2, markeredgecolor=\"red\", markerfacecoloralt=\"red\")# , x=\"x\", y=\"fwhm\")\n",
    "# plt.legend()\n",
    "# plt.show()\n",
    "ax.plot(data_0015[\"x\"], data_0015[\"fwhm\"], label=\"(0015)\", color=\"blue\", marker=\"o\", linestyle=\"-\", markersize=5, linewidth=2, markerfacecolor=\"blue\", markeredgewidth=2, markeredgecolor=\"blue\", markerfacecoloralt=\"blue\")# , x=\"x\", y=\"fwhm\")\n",
    "# plt.legend()\n",
    "# plt.show()\n",
    "\n",
    "MIN_X = 0\n",
    "MAX_X = 0.08\n",
    "MIN_Y = 0\n",
    "MAX_Y = 0.8\n",
    "X_STEP = 0.02\n",
    "Y_STEP = 0.2\n",
    "SUB_X_STEP = 0.01\n",
    "SUB_Y_STEP = 0.1\n",
    "# Axesのタイトルの設定\n",
    "# ax.set_title(\"Rocking FWHM\", fontsize=16)\n",
    "# 軸ラベルの設定\n",
    "ax.set_xlabel(\"Cr(x)\", size=14, weight=\"light\")\n",
    "ax.set_ylabel(\"FWHM\", size=14, weight=\"light\")\n",
    "# x軸の目盛設定\n",
    "ax.set_xlim(MIN_X, MAX_X)\n",
    "ax.set_xticks(np.arange(MIN_X, MAX_X, step=X_STEP))\n",
    "# y軸の目盛設定\n",
    "ax.set_ylim(MIN_Y, MAX_Y)\n",
    "ax.set_yticks(np.arange(MIN_Y, MAX_Y, step=Y_STEP))\n",
    "# 副目盛りの設定\n",
    "ax.minorticks_on()\n",
    "ax.tick_params(which=\"minor\", direction=\"in\", length=5, width=0.5, colors=\"black\")\n",
    "ax.set_xticks(np.arange(MIN_X, MAX_X, step=SUB_X_STEP), minor=True)\n",
    "ax.set_yticks(np.arange(MIN_Y, MAX_Y, step=SUB_Y_STEP), minor=True)\n",
    "# メモリを上下左右に設定\n",
    "# 目盛方向を両側, 目盛の長さを5ポイント, 目盛と目盛ラベルの色\n",
    "ax.tick_params(direction=\"in\", length=10, colors=\"black\", width=1)\n",
    "# ax.secondary_xaxis('top')\n",
    "# ax.secondary_yaxis('right')\n",
    "ax.yaxis.set_ticks_position('both')\n",
    "ax.xaxis.set_ticks_position('both')\n",
    "plt.savefig(f\"/Users/uedataiga/Desktop/卒業研究/前期/Data/解析/中間報告/Rocking FWHM.png\", dpi=300, bbox_inches='tight')\n"
   ]
  },
  {
   "cell_type": "code",
   "execution_count": null,
   "metadata": {},
   "outputs": [],
   "source": []
  },
  {
   "cell_type": "code",
   "execution_count": null,
   "metadata": {},
   "outputs": [],
   "source": [
    "MIN_X = 0\n",
    "MAX_X = 0.08\n",
    "MIN_Y = 0\n",
    "MAX_Y = 0.8\n",
    "X_STEP = 0.02\n",
    "Y_STEP = 0.2\n",
    "SUB_X_STEP = 0.01\n",
    "SUB_Y_STEP = 0.1\n",
    "savepath = f\"/Users/uedataiga/Desktop/卒業研究/前期/Data/解析/中間報告/Rocking FWHM.png\"\n",
    "plot(\n",
    "    df[\"temps\"].values, df[\"I_Ryx\"].values, label=\"\",\n",
    "    xlabel=\"Cr(x)\", ylabel=\"FWHM\", title=f\"#1-{SAMPLE}\",\n",
    "    MIN_X=MIN_X, MAX_X=MAX_X, X_STEP=X_STEP,\n",
    "    SUB_X_STEP=SUB_X_STEP, MIN_Y=MIN_Y, MAX_Y=MAX_Y, Y_STEP=Y_STEP, SUB_Y_STEP=SUB_Y_STEP, savepath=savepath, hlines=False\n",
    ")\n"
   ]
  },
  {
   "cell_type": "code",
   "execution_count": null,
   "metadata": {},
   "outputs": [],
   "source": []
  }
 ],
 "metadata": {
  "kernelspec": {
   "display_name": "Python 3",
   "language": "python",
   "name": "python3"
  },
  "language_info": {
   "codemirror_mode": {
    "name": "ipython",
    "version": 3
   },
   "file_extension": ".py",
   "mimetype": "text/x-python",
   "name": "python",
   "nbconvert_exporter": "python",
   "pygments_lexer": "ipython3",
   "version": "3.8.2"
  },
  "orig_nbformat": 4
 },
 "nbformat": 4,
 "nbformat_minor": 2
}
