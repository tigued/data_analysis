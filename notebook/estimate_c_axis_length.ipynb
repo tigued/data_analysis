{
 "cells": [
  {
   "cell_type": "code",
   "execution_count": 94,
   "metadata": {},
   "outputs": [],
   "source": [
    "import numpy as np\n",
    "import matplotlib.pyplot as plt\n",
    "plt.rcParams[\"font.family\"] = \"Arial\"  # \"Times New Roman\"      #全体のフォントを設定\n",
    "plt.rcParams[\"xtick.direction\"] = \"in\"  # x軸の目盛線を内向きへ\n",
    "plt.rcParams[\"ytick.direction\"] = \"in\"  # y軸の目盛線を内向きへ\n",
    "plt.rcParams[\"xtick.minor.visible\"] = True  # x軸補助目盛りの追加\n",
    "plt.rcParams[\"ytick.minor.visible\"] = True  # y軸補助目盛りの追加\n",
    "# plt.rcParams[\"xtick.major.width\"] = 1.5              #x軸主目盛り線の線幅\n",
    "# plt.rcParams[\"ytick.major.width\"] = 1.5              #y軸主目盛り線の線幅\n",
    "# plt.rcParams[\"xtick.minor.width\"] = 1.0              #x軸補助目盛り線の線幅\n",
    "# plt.rcParams[\"ytick.minor.width\"] = 1.0              #y軸補助目盛り線の線幅\n",
    "plt.rcParams[\"xtick.major.size\"] = 10  # x軸主目盛り線の長さ\n",
    "plt.rcParams[\"ytick.major.size\"] = 10  # y軸主目盛り線の長さ\n",
    "plt.rcParams[\"xtick.minor.size\"] = 5  # x軸補助目盛り線の長さ\n",
    "plt.rcParams[\"ytick.minor.size\"] = 5  # y軸補助目盛り線の長さ\n",
    "plt.rcParams[\"font.size\"] = 14  # フォントの大きさ\n",
    "plt.rcParams[\"axes.linewidth\"] = 1  # 囲みの太さ\n",
    "plt.rcParams[\"figure.figsize\"] = [2.5, 2]\n",
    "# 目盛方向を両側, 目盛の長さを5ポイント, 目盛と目盛ラベルの色\n",
    "# ax.tick_params(direction=\"in\", length=10, colors=\"black\", width=1)\n",
    "plt.rcParams[\"xtick.top\"] = True\n",
    "plt.rcParams[\"ytick.right\"] = True\n"
   ]
  },
  {
   "cell_type": "code",
   "execution_count": 97,
   "metadata": {},
   "outputs": [],
   "source": [
    "\n",
    "def plot(x, y, label, xlabel, ylabel, title, MIN_X, MAX_X, X_STEP, MIN_Y, MAX_Y, Y_STEP, savepath, SUB_X_STEP=0, SUB_Y_STEP=0, hlines=True, figsize=(2.5 * 1.5, 2 * 1.5)):\n",
    "    \"\"\"\n",
    "    \"\"\"\n",
    "    # if SUB_X_STEP == 0:\n",
    "    #     SUB_X_STEP = X_STEP / 2\n",
    "    # if SUB_Y_STEP == 0:\n",
    "    #     SUB_Y_STEP = Y_STEP / 2\n",
    "\n",
    "    # Figureを設定\n",
    "    fig = plt.figure(figsize=figsize)\n",
    "    # Axesを追加\n",
    "    ax = fig.add_subplot(111)\n",
    "    ax.plot(x, y, label, color=\"red\", marker=\"o\", markersize=3, linewidth=1, markerfacecolor=\"red\", markeredgewidth=2, markeredgecolor=\"red\", markerfacecoloralt=\"red\")  # , x=\"x\", y=\"fwhm\")\n",
    "    if hlines:\n",
    "        ax.hlines(0, 0, MAX_Y, color='black', linestyles='dotted')\n",
    "    else:\n",
    "        pass\n",
    "\n",
    "    # plt.show()\n",
    "    # Axesのタイトルの設定\n",
    "    ax.set_title(title)\n",
    "    # 軸ラベルの設定\n",
    "    ax.set_xlabel(xlabel, weight=\"light\")\n",
    "    ax.set_ylabel(ylabel, weight=\"light\")\n",
    "    # x軸の目盛設定\n",
    "    ax.set_xlim(MIN_X, MAX_X)\n",
    "    ax.set_xticks(np.arange(MIN_X, MAX_X, step=X_STEP))\n",
    "    # y軸の目盛設定\n",
    "    ax.set_ylim(MIN_Y, MAX_Y)\n",
    "    ax.set_yticks(np.arange(MIN_Y, MAX_Y, step=Y_STEP))\n",
    "    # 副目盛りの設定\n",
    "    ax.minorticks_on()\n",
    "    ax.tick_params(which=\"minor\", direction=\"in\", length=5, colors=\"black\")\n",
    "    ax.set_xticks(np.arange(MIN_X, MAX_X, step=SUB_X_STEP), minor=True)\n",
    "    ax.set_yticks(np.arange(0, MAX_Y, step=SUB_Y_STEP), minor=True)\n",
    "    plt.savefig(savepath, dpi=300, bbox_inches='tight')\n"
   ]
  },
  {
   "cell_type": "markdown",
   "metadata": {},
   "source": []
  },
  {
   "cell_type": "code",
   "execution_count": 86,
   "metadata": {},
   "outputs": [],
   "source": [
    "def length_1ql(r, t):\n",
    "    # return 4*np.sqrt(r**2 + 2*r*t + (t**2)/3) + np.sqrt(10/3)*t\n",
    "    print(np.sqrt(r**2 + 2 * r * t + (t**2) / 3)) # 四面体の高さ\n",
    "    print(np.sqrt((12 * r * t**3 + 12 * t * r**3 + 27 * r**2 * t**2 - t**4 - r**4) / (3 * t**2 + 3 * r**2 - 6 * r * t))) # 八面体の高さ（多分嘘）\n",
    "    # print(np.sqrt) # 八面体の高さ（多分嘘その2）\n",
    "    print(np.sqrt(4 / 3) * t)\n",
    "    return 4 * 2 * np.sqrt(r**2 + 2 * r * t + (t**2) / 3) + np.sqrt(4 / 3) * t\n",
    "    # return 2 * np.sqrt(r**2 + 2 * r * t + (t**2) / 3) + \\\n",
    "    #         2 * np.sqrt((12*r*t**3 + 12*t*r**3 + 27*r**2 * t**2 - t**4 - r**4)/(3*t**2 + 3*r**2 -6*r*t)) + \\\n",
    "    #         np.sqrt(10 / 3) * t\n"
   ]
  },
  {
   "cell_type": "code",
   "execution_count": 87,
   "metadata": {},
   "outputs": [
    {
     "name": "stdout",
     "output_type": "stream",
     "text": [
      "[0.15344 0.15344 0.15344 0.15344 0.15344]\n",
      "[0.15344    0.15333824 0.1531856  0.152804   0.1524224 ]\n"
     ]
    }
   ],
   "source": [
    "B = 0.156\n",
    "S = 0.140\n",
    "C = 0.128\n",
    "# B = 0.207\n",
    "# S = 0.206\n",
    "# C = 0.130  # https://www.chem.nara-wu.ac.jp/~tanase/echem/PeriodicTable/Element1/Cr.html\n",
    "def estimate_r(x, y):\n",
    "    # BとSの比がy:1-yの時\n",
    "    # CとB+Sの比がx:2-xの時\n",
    "    # C = (C*x + (B*y + S*(1-y))*(2-x)) / 2\n",
    "    print((B * y + S * (1 - y)))\n",
    "    return (C*x + (B*y + S*(1-y))*(2-x)) / 2\n",
    "\n",
    "\n",
    "x = np.array([0.0, 0.008, 0.02, 0.05, 0.08])\n",
    "y = np.array([0.84, 0.84, 0.84, 0.84, 0.84])\n",
    "r = estimate_r(x, y)\n",
    "print(r)"
   ]
  },
  {
   "cell_type": "code",
   "execution_count": 88,
   "metadata": {},
   "outputs": [
    {
     "name": "stdout",
     "output_type": "stream",
     "text": [
      "[0.27025981 0.27014932 0.26998357 0.26956913 0.26915459]\n",
      "[6.46401513 6.50894651 6.57764488 6.75656203 6.94647906]\n",
      "0.16165807537309523\n",
      "[2.32373659 2.32285265 2.32152665 2.31821111 2.3148948 ]\n"
     ]
    }
   ],
   "source": [
    "t = 0.140\n",
    "len_1ql = length_1ql(r, t)\n",
    "print(len_1ql)"
   ]
  },
  {
   "cell_type": "code",
   "execution_count": 89,
   "metadata": {},
   "outputs": [
    {
     "data": {
      "text/plain": [
       "[<matplotlib.lines.Line2D at 0x7fa97873a490>]"
      ]
     },
     "execution_count": 89,
     "metadata": {},
     "output_type": "execute_result"
    },
    {
     "data": {
      "image/png": "[encoded data removed]",
      "text/plain": [
       "<Figure size 180x144 with 1 Axes>"
      ]
     },
     "metadata": {
      "needs_background": "light"
     },
     "output_type": "display_data"
    }
   ],
   "source": [
    "plt.plot(x, 3*len_1ql, marker='o', label='1QL')"
   ]
  },
  {
   "cell_type": "code",
   "execution_count": 104,
   "metadata": {},
   "outputs": [
    {
     "name": "stdout",
     "output_type": "stream",
     "text": [
      "[0.20684 0.20684 0.20678 0.20684 0.20684]\n",
      "[0.20684    0.20653264 0.2060122  0.204919   0.2037664 ]\n",
      "[0.37702281 0.37668623 0.37611619 0.37491833 0.3736547 ]\n",
      "0.23786831090612578\n",
      "[3.25405079 3.25135811 3.24679781 3.23721499 3.22710592]\n"
     ]
    },
    {
     "data": {
      "image/png": "[encoded data removed]",
      "text/plain": [
       "<Figure size 270x216 with 1 Axes>"
      ]
     },
     "metadata": {
      "needs_background": "light"
     },
     "output_type": "display_data"
    }
   ],
   "source": [
    "B = 0.207\n",
    "S = 0.206\n",
    "C = 0.130\n",
    "T = 0.206\n",
    "\n",
    "\n",
    "def length_1ql(r, t):\n",
    "    # return 4*np.sqrt(r**2 + 2*r*t + (t**2)/3) + np.sqrt(10/3)*t\n",
    "    print(np.sqrt(r**2 + 2 * r * t + (t**2) / 3))  # 四面体の高さ\n",
    "    # print(np.sqrt((12 * r * t**3 + 12 * t * r**3 + 27 * r**2 * t**2 - t**4 - r**4) / (3 * t**2 + 3 * r**2 - 6 * r * t)))  # 八面体の高さ（多分嘘）\n",
    "    # print(np.sqrt) # 八面体の高さ（多分嘘その2）\n",
    "    print(np.sqrt(4 / 3) * t)\n",
    "    return 4 * 2 * np.sqrt(r**2 + 2 * r * t + (t**2) / 3) + np.sqrt(4 / 3) * t\n",
    "    # return 2 * np.sqrt(r**2 + 2 * r * t + (t**2) / 3) + \\\n",
    "    #         2 * np.sqrt((12*r*t**3 + 12*t*r**3 + 27*r**2 * t**2 - t**4 - r**4)/(3*t**2 + 3*r**2 -6*r*t)) + \\\n",
    "    #         np.sqrt(10 / 3) * t\n",
    "\n",
    "def estimate_r(x, y):\n",
    "    # BとSの比がy:1-yの時\n",
    "    # CとB+Sの比がx:2-xの時\n",
    "    # C = (C*x + (B*y + S*(1-y))*(2-x)) / 2\n",
    "    # print((B * y + S * (1 - y)))\n",
    "    return (C * x + (B * y + S * (1 - y)) * (2 - x)) / 2\n",
    "\n",
    "\n",
    "# x = np.array([0.0, 0.008, 0.02, 0.05, 0.08])\n",
    "# y = np.array([0.84, 0.84, 0.84, 0.84, 0.84])\n",
    "# r = estimate_r(x, y)\n",
    "# print(r)\n",
    "x = np.array([0.0, 0.008, 0.02, 0.05, 0.08])\n",
    "y = np.array([0.84, 0.84, 0.78, 0.84, 0.84])\n",
    "print((B * y + S * (1 - y)))\n",
    "r = estimate_r(x, y)\n",
    "print(r)\n",
    "\n",
    "len_1ql = length_1ql(r, T)\n",
    "print(len_1ql)\n",
    "# plt.plot(x, len_1ql, marker='o', label='1QL')\n",
    "plot(x, len_1ql, label='', xlabel=\"Cr(x)\", ylabel=\"c axis length(thoretical)\", title=\"\", MIN_X=0, MAX_X=0.1, X_STEP=0.025, SUB_X_STEP=0.0125, MIN_Y=3.2, MAX_Y=3.3001, Y_STEP=0.25, SUB_Y_STEP=0.125, savepath=\"/Users/uedataiga/Desktop/卒業研究/前期/Data/解析/中間報告/estimate_c_axis_length.png\", hlines=False)\n"
   ]
  },
  {
   "cell_type": "code",
   "execution_count": 103,
   "metadata": {},
   "outputs": [
    {
     "name": "stderr",
     "output_type": "stream",
     "text": [
      "No artists with labels found to put in legend.  Note that artists whose label start with an underscore are ignored when legend() is called with no argument.\n"
     ]
    },
    {
     "name": "stderr",
     "output_type": "stream",
     "text": [
      "Locator attempting to generate 2001 ticks ([1.1546319456101628e-14, ..., 9.999999999999797]), which exceeds Locator.MAXTICKS (1000).\n",
      "Locator attempting to generate 2001 ticks ([1.1546319456101628e-14, ..., 9.999999999999797]), which exceeds Locator.MAXTICKS (1000).\n",
      "Locator attempting to generate 2001 ticks ([1.1546319456101628e-14, ..., 9.999999999999797]), which exceeds Locator.MAXTICKS (1000).\n",
      "Locator attempting to generate 2001 ticks ([1.1546319456101628e-14, ..., 9.999999999999797]), which exceeds Locator.MAXTICKS (1000).\n",
      "Locator attempting to generate 2001 ticks ([1.1546319456101628e-14, ..., 9.999999999999797]), which exceeds Locator.MAXTICKS (1000).\n",
      "Locator attempting to generate 2001 ticks ([1.1546319456101628e-14, ..., 9.999999999999797]), which exceeds Locator.MAXTICKS (1000).\n",
      "Locator attempting to generate 2001 ticks ([1.1546319456101628e-14, ..., 9.999999999999797]), which exceeds Locator.MAXTICKS (1000).\n",
      "Locator attempting to generate 2001 ticks ([1.1546319456101628e-14, ..., 9.999999999999797]), which exceeds Locator.MAXTICKS (1000).\n",
      "Locator attempting to generate 2001 ticks ([1.1546319456101628e-14, ..., 9.999999999999797]), which exceeds Locator.MAXTICKS (1000).\n",
      "Locator attempting to generate 2001 ticks ([1.1546319456101628e-14, ..., 9.999999999999797]), which exceeds Locator.MAXTICKS (1000).\n"
     ]
    },
    {
     "data": {
      "image/png": "[encoded data removed]",
      "text/plain": [
       "<Figure size 270x216 with 1 Axes>"
      ]
     },
     "metadata": {
      "needs_background": "light"
     },
     "output_type": "display_data"
    }
   ],
   "source": [
    "fig = plt.figure(figsize=(2.5*1.5, 2*1.5))\n",
    "ax = fig.add_subplot(111)\n",
    "ax.plot(x, len_1ql,  marker=\"o\")\n",
    "ax.set_xlabel(\"Cr(x)\")\n",
    "ax.set_ylabel(\"c axis length\")\n",
    "ax.set_ylim(0, 10)\n",
    "ax.set_xlim(0, 1)\n",
    "ax.set_xticks([0, 0.25, 0.5, 0.75, 1])\n",
    "# ax.set_xticklabels([\"0\", \"0.5\", \"1\"])\n",
    "ax.set_yticks([3.2, 3.225, 3.25, 3.275, 3.3])\n",
    "# ax.set_yticklabels([\"0\", \"5\", \"10\"])\n",
    "ax.legend()\n",
    "plt.show()\n",
    "\n"
   ]
  },
  {
   "cell_type": "code",
   "execution_count": 105,
   "metadata": {},
   "outputs": [
    {
     "data": {
      "text/plain": [
       "array([0.   , 0.008, 0.02 , 0.05 , 0.08 ])"
      ]
     },
     "execution_count": 105,
     "metadata": {},
     "output_type": "execute_result"
    }
   ],
   "source": [
    "x"
   ]
  },
  {
   "cell_type": "code",
   "execution_count": 107,
   "metadata": {},
   "outputs": [
    {
     "data": {
      "text/plain": [
       "array([3.25405079, 3.25135811, 3.24679781, 3.23721499, 3.22710592])"
      ]
     },
     "execution_count": 107,
     "metadata": {},
     "output_type": "execute_result"
    }
   ],
   "source": [
    "len_1ql"
   ]
  },
  {
   "cell_type": "code",
   "execution_count": null,
   "metadata": {},
   "outputs": [],
   "source": []
  }
 ],
 "metadata": {
  "kernelspec": {
   "display_name": "Python 3",
   "language": "python",
   "name": "python3"
  },
  "language_info": {
   "codemirror_mode": {
    "name": "ipython",
    "version": 3
   },
   "file_extension": ".py",
   "mimetype": "text/x-python",
   "name": "python",
   "nbconvert_exporter": "python",
   "pygments_lexer": "ipython3",
   "version": "3.8.2"
  },
  "orig_nbformat": 4
 },
 "nbformat": 4,
 "nbformat_minor": 2
}
