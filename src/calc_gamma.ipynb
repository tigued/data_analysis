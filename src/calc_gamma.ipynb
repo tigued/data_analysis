{
 "cells": [
  {
   "cell_type": "code",
   "execution_count": null,
   "metadata": {},
   "outputs": [],
   "source": []
  },
  {
   "cell_type": "code",
   "execution_count": null,
   "metadata": {},
   "outputs": [],
   "source": []
  },
  {
   "cell_type": "code",
   "execution_count": null,
   "metadata": {},
   "outputs": [],
   "source": []
  },
  {
   "cell_type": "code",
   "execution_count": null,
   "metadata": {},
   "outputs": [],
   "source": []
  },
  {
   "cell_type": "code",
   "execution_count": null,
   "metadata": {},
   "outputs": [],
   "source": []
  },
  {
   "cell_type": "code",
   "execution_count": 1,
   "metadata": {},
   "outputs": [],
   "source": [
    "import numpy as np\n",
    "import matplotlib.pyplot as plt\n",
    "import pandas as pd\n",
    "from pathlib import Path\n",
    "import os\n",
    "from glob import glob\n",
    "\n",
    "import util_tr_new as tr\n",
    "from scipy import interpolate  # , signal\n",
    "\n",
    "datadir = Path(\"/Users/uedataiga/Desktop/grad-research/data_analysis/Data/PPMS/231127_#1-1379(1-1)\")\n",
    "sample = \"1379\"\n",
    "if not os.path.exists(datadir / sample):\n",
    "    os.mkdir(datadir / sample)\n",
    "savedir = datadir / sample"
   ]
  },
  {
   "cell_type": "code",
   "execution_count": null,
   "metadata": {},
   "outputs": [],
   "source": [
    "slope_dict = {\n",
    "    1e-3: 0.41069 / 1.5456,  # 0.1939/0.38134\n",
    "    5e-4: 0.25985 / 0.76797,\n",
    "    2e-4: 0.16348 / 0.38398,\n",
    "\n",
    "\n",
    "\n",
    "\n",
    "\n",
    "\n",
    "}"
   ]
  },
  {
   "cell_type": "code",
   "execution_count": null,
   "metadata": {},
   "outputs": [],
   "source": []
  },
  {
   "cell_type": "markdown",
   "metadata": {},
   "source": []
  },
  {
   "cell_type": "code",
   "execution_count": 10,
   "metadata": {},
   "outputs": [
    {
     "name": "stdout",
     "output_type": "stream",
     "text": [
      "0.18413176227745764\n",
      "124999999.99999999\n",
      "822.1199999999999\n"
     ]
    },
    {
     "data": {
      "text/plain": [
       "1.7917750428400497e-12"
      ]
     },
     "execution_count": 10,
     "metadata": {},
     "output_type": "execute_result"
    }
   ],
   "source": [
    "slope = 0.21409 / 1.1627  # V/A\n",
    "thickness = 2e-8  # m (20nm)\n",
    "width = 2e-5  # m (20um)\n",
    "print(slope)\n",
    "current = 5e-5  # A\n",
    "current_density = current / (width * thickness)  # A/m^2\n",
    "print(current_density)\n",
    "R0 = 0.041106 / current  # Ω\n",
    "print(R0)\n",
    "\n",
    "gamma = slope / (current_density * R0)\n",
    "gamma"
   ]
  },
  {
   "cell_type": "code",
   "execution_count": 22,
   "metadata": {},
   "outputs": [
    {
     "name": "stdout",
     "output_type": "stream",
     "text": [
      "2.759349593495935\n"
     ]
    },
    {
     "data": {
      "text/plain": [
       "226219876892246.53"
      ]
     },
     "execution_count": 22,
     "metadata": {},
     "output_type": "execute_result"
    }
   ],
   "source": [
    "R0 = 10.182 / 3.69\n",
    "print(R0)\n",
    "e = 1.602e-19\n",
    "n = 10**(-4) / (e * R0)\n",
    "n"
   ]
  },
  {
   "cell_type": "code",
   "execution_count": 11,
   "metadata": {},
   "outputs": [
    {
     "name": "stdout",
     "output_type": "stream",
     "text": [
      "0.18413176227745764\n",
      "124999999.99999999\n",
      "28.432\n"
     ]
    },
    {
     "data": {
      "text/plain": [
       "5.180972489517661e-11"
      ]
     },
     "execution_count": 11,
     "metadata": {},
     "output_type": "execute_result"
    }
   ],
   "source": [
    "slope = 0.21409 / 1.1627  # V/A\n",
    "thickness = 2e-8  # m (20nm)\n",
    "width = 2e-5  # m (20um)\n",
    "print(slope)\n",
    "current = 5e-5  # A\n",
    "current_density = current / (width * thickness)  # A/m^2\n",
    "print(current_density)\n",
    "R0 = 0.0014216 / current  # Ω\n",
    "print(R0)\n",
    "\n",
    "gamma = slope / (current_density * R0)\n",
    "gamma"
   ]
  },
  {
   "cell_type": "code",
   "execution_count": 19,
   "metadata": {},
   "outputs": [
    {
     "name": "stdout",
     "output_type": "stream",
     "text": [
      "n2D =  1.840026e+14\n",
      "n3D =  9.200131e+21\n",
      "sloe =  -1.6274000805621447\n",
      "current_density =  124999999.99999999\n",
      "R0 =  957.02\n",
      "R1omega =  980.8199999999999\n",
      "gamma (use Hall meas R0) =  -1.3603896098824643e-11\n",
      "gamma (use Lockin meas R1omega)=  -1.32737919745694e-11\n"
     ]
    }
   ],
   "source": [
    "RH = 20.984 / 6.1855\n",
    "e = 1.602e-19\n",
    "n2D = 10 ** (-4) / (e * RH)\n",
    "print(\"n2D = \", \"{:e}\".format(n2D))\n",
    "n3D = n2D / thickness\n",
    "print(\"n3D = \", \"{:e}\".format(n3D))\n",
    "\n",
    "slope = 0.72722 / -0.44686  # V/A\n",
    "thickness = 2e-8  # m (20nm)\n",
    "width = 2e-5  # m (20um)\n",
    "print(\"sloe = \", slope)\n",
    "current = 5e-5  # A\n",
    "current_density = current / (width * thickness)  # A/m^2\n",
    "print(\"current_density = \", current_density)\n",
    "R0 = 957.02  # Hall測定 Ω\n",
    "# R1omega = 0.0016937  / current # ロックインアンプの測定（33.8）\n",
    "R1omega = 0.049041 / current  # ロックインアンプの測定\n",
    "print(\"R0 = \", R0)\n",
    "print(\"R1omega = \", R1omega)\n",
    "\n",
    "gamma = slope / (current_density * R0)\n",
    "gamma2 = slope / (current_density * R1omega)\n",
    "print(\"gamma (use Hall meas R0) = \", gamma)\n",
    "print(\"gamma (use Lockin meas R1omega)= \", gamma2)"
   ]
  },
  {
   "cell_type": "code",
   "execution_count": 1,
   "metadata": {},
   "outputs": [
    {
     "data": {
      "text/plain": [
       "-1.6274000805621447"
      ]
     },
     "execution_count": 1,
     "metadata": {},
     "output_type": "execute_result"
    }
   ],
   "source": [
    "0.72722 / -0.44686  # V/A"
   ]
  },
  {
   "cell_type": "code",
   "execution_count": 8,
   "metadata": {},
   "outputs": [
    {
     "name": "stdout",
     "output_type": "stream",
     "text": [
      "slope =  0.0005\n",
      "current_density =  124999999.99999999\n",
      "R0 =  1839.9999999999998\n",
      "gamma =  2.1739130434782614e-15\n"
     ]
    }
   ],
   "source": [
    "# RH = 20.984 / 6.1855\n",
    "# e = 1.602e-19\n",
    "# n2D = 10 ** (-4) / (e * RH)\n",
    "# print(\"n2D = \", \"{:e}\".format(n2D))\n",
    "# n3D = n2D / thickness\n",
    "# print(\"n3D = \", \"{:e}\".format(n3D))\n",
    "\n",
    "\n",
    "thickness = 2e-8  # m (20nm)\n",
    "width = 2e-5  # m (20um)\n",
    "\n",
    "current = 50e-6  # A\n",
    "V2omea = **\n",
    "B = **\n",
    "slope = V2omea / B\n",
    "print(\"slope = \", slope)\n",
    "current_density = current / (width * thickness)  # A/m^2\n",
    "print(\"current_density = \", current_density)\n",
    "R0 = 9.2 * 10 ** (-2) / current  # Hall測定 Ω\n",
    "\n",
    "print(\"R0 = \", R0)\n",
    "# print(\"R1omega = \", R1omega)\n",
    "\n",
    "gamma = slope / (current_density * R0)\n",
    "# gamma2 = slope / (current_density * R1omega)\n",
    "print(\"gamma = \", gamma)"
   ]
  },
  {
   "cell_type": "code",
   "execution_count": 9,
   "metadata": {},
   "outputs": [
    {
     "data": {
      "text/plain": [
       "4.4444444444444444e-11"
      ]
     },
     "execution_count": 9,
     "metadata": {},
     "output_type": "execute_result"
    }
   ],
   "source": [
    "1 / (1800*0.1*1.25 * 10**8)"
   ]
  },
  {
   "cell_type": "code",
   "execution_count": null,
   "metadata": {},
   "outputs": [],
   "source": []
  },
  {
   "cell_type": "code",
   "execution_count": 3,
   "metadata": {},
   "outputs": [
    {
     "name": "stdout",
     "output_type": "stream",
     "text": [
      "R0 = 1829 Ω, current_density = 124999999.99999999 A/m^2\n",
      "Rxx2omega = -0.89251 Ω\n",
      "gamma = -4.248080757656824e-11\n"
     ]
    }
   ],
   "source": [
    "# 1-1388 50 uA B⊥I\n",
    "\n",
    "B = 0.091896  # T\n",
    "current = 50e-6  # A\n",
    "width = 20e-6  # m\n",
    "thickness = 20e-9  # m\n",
    "current_density = current / (width * thickness)  # A/m^2\n",
    "R0 = 1829  # Ω\n",
    "Rxx2omega = -0.89251  # Ω\n",
    "print(f\"R0 = {R0} Ω, current_density = {current / (width * thickness)} A/m^2\")\n",
    "print(f\"Rxx2omega = {Rxx2omega} Ω\")\n",
    "gamma = Rxx2omega / (B * R0 * current_density)\n",
    "print(f\"gamma = {gamma}\")"
   ]
  },
  {
   "cell_type": "code",
   "execution_count": 1,
   "metadata": {},
   "outputs": [
    {
     "name": "stdout",
     "output_type": "stream",
     "text": [
      "R0 = 1829 Ω, current_density = 124999999.99999999 A/m^2\n",
      "Rxx2omega = 0.081346 Ω\n",
      "gamma = 1.3682190275685095e-11\n"
     ]
    }
   ],
   "source": [
    "# 1-1388 50 uA B //I\n",
    "\n",
    "B = 0.026005  # T\n",
    "current = 50e-6  # A\n",
    "width = 20e-6  # m\n",
    "thickness = 20e-9  # m\n",
    "current_density = current / (width * thickness)  # A/m^2\n",
    "R0 = 1829  # Ω\n",
    "Rxx2omega = 0.081346  # Ω\n",
    "print(f\"R0 = {R0} Ω, current_density = {current / (width * thickness)} A/m^2\")\n",
    "print(f\"Rxx2omega = {Rxx2omega} Ω\")\n",
    "gamma = Rxx2omega / (B * R0 * current_density)\n",
    "print(f\"gamma = {gamma}\")"
   ]
  },
  {
   "cell_type": "code",
   "execution_count": 1,
   "metadata": {},
   "outputs": [
    {
     "name": "stdout",
     "output_type": "stream",
     "text": [
      "R0 = 1829 Ω, current_density = 124999999.99999999 A/m^2\n",
      "Rxx2omega = 0.60838 Ω\n",
      "gamma = 4.1643799984769816e-11 T^-1A^-1m^2\n",
      "gamma = 104.10949996192453 T^-1A^-1\n"
     ]
    }
   ],
   "source": [
    "# 1-1388 50 uA B //I rho_yx^2omega\n",
    "\n",
    "B = 0.0639  # T\n",
    "current = 50e-6  # A\n",
    "width = 20e-6  # m\n",
    "thickness = 20e-9  # m\n",
    "current_density = current / (width * thickness)  # A/m^2\n",
    "R0 = 1829  # Ω\n",
    "Rxx2omega = 0.60838  # Ω\n",
    "print(f\"R0 = {R0} Ω, current_density = {current / (width * thickness)} A/m^2\")\n",
    "print(f\"Rxx2omega = {Rxx2omega} Ω\")\n",
    "gamma_prime = Rxx2omega / (B * R0 * current_density)\n",
    "print(f\"gamma = {gamma_prime} T^-1A^-1m^2\")\n",
    "gamma = Rxx2omega / (B * R0 * current)\n",
    "print(f\"gamma = {gamma} T^-1A^-1\")"
   ]
  },
  {
   "cell_type": "markdown",
   "metadata": {},
   "source": [
    "# A^-1"
   ]
  },
  {
   "cell_type": "markdown",
   "metadata": {},
   "source": []
  },
  {
   "cell_type": "code",
   "execution_count": 9,
   "metadata": {},
   "outputs": [
    {
     "name": "stdout",
     "output_type": "stream",
     "text": [
      "\n",
      "\n",
      "•Display :'1_9T_sweep_50uA_2K':V2omega_d vs :'1_9T_sweep_50uA_2K':B_ref_d\n",
      "•AppendToGraph :'1_9T_sweep_50uA_2K':V2omega_u vs :'1_9T_sweep_50uA_2K':B_ref_u\n",
      "•SetAxis/A\n",
      "•AppendToGraph :'1_9T_sweep_50uA_5K':V2omega_d vs :'1_9T_sweep_50uA_5K':B_ref_d\n",
      "•AppendToGraph :'1_9T_sweep_50uA_5K':V2omega_u vs :'1_9T_sweep_50uA_5K':B_ref_u\n",
      "•AppendToGraph :'1_9T_sweep_50uA_10K':V2omega_d vs :'1_9T_sweep_50uA_10K':B_ref_d\n",
      "•AppendToGraph :'1_9T_sweep_50uA_10K':V2omega_u vs :'1_9T_sweep_50uA_10K':B_ref_u\n",
      "•AppendToGraph :'1_9T_sweep_50uA_20K':V2omega_d vs :'1_9T_sweep_50uA_20K':B_ref_d\n",
      "•AppendToGraph :'1_9T_sweep_50uA_20K':V2omega_u vs :'1_9T_sweep_50uA_20K':B_ref_u\n",
      "•AppendToGraph :'1_9T_sweep_50uA_30K':V2omega_d vs :'1_9T_sweep_50uA_30K':B_ref_d\n",
      "•AppendToGraph :'1_9T_sweep_50uA_30K':V2omega_u vs :'1_9T_sweep_50uA_30K':B_ref_u\n",
      "•AppendToGraph :'1_9T_sweep_50uA_40K':V2omega_d vs :'1_9T_sweep_50uA_40K':B_ref_d\n",
      "•AppendToGraph :'1_9T_sweep_50uA_40K':V2omega_u vs :'1_9T_sweep_50uA_40K':B_ref_u\n",
      "•AppendToGraph :'1_9T_sweep_50uA_60K':V2omega_d vs :'1_9T_sweep_50uA_60K':B_ref_d\n",
      "•AppendToGraph :'1_9T_sweep_50uA_60K':V2omega_u vs :'1_9T_sweep_50uA_60K':B_ref_u\n",
      "•AppendToGraph :'1_9T_sweep_50uA_80K':V2omega_d vs :'1_9T_sweep_50uA_80K':B_ref_d\n",
      "•AppendToGraph :'1_9T_sweep_50uA_80K':V2omega_u vs :'1_9T_sweep_50uA_80K':B_ref_u\n",
      "•AppendToGraph :'1_9T_sweep_50uA_100K':V2omega_d vs :'1_9T_sweep_50uA_100K':B_ref_d\n",
      "•AppendToGraph :'1_9T_sweep_50uA_100K':V2omega_u vs :'1_9T_sweep_50uA_100K':B_ref_u\n",
      "•Label left \"\\f02ρ\\Bxx\\M\\S2ω\\M\\f00 (Ω)\";DelayUpdate\n",
      "•Label bottom \"\\f02B\\f00 (T)\";DelayUpdate\n",
      "•SetAxis left -0.5,0.5;DelayUpdate\n",
      "•SetAxis bottom -10,10\n",
      "•ModifyGraph rgb(V2omega_d)=(52428,1,1),rgb(V2omega_u)=(52428,1,1)\n",
      "•ModifyGraph rgb(V2omega_d#1)=(52428,34958,1),rgb(V2omega_u#1)=(52428,34958,1)\n",
      "•ModifyGraph rgb(V2omega_d#2)=(52428,52425,1),rgb(V2omega_u#2)=(52428,52425,1),rgb(V2omega_d#3)=(3,52428,1),rgb(V2omega_u#3)=(3,52428,1),rgb(V2omega_d#4)=(1,52428,52428),rgb(V2omega_u#4)=(1,52428,52428),rgb(V2omega_d#5)=(1,34817,52428),rgb(V2omega_u#5)=(1,34817,52428),rgb(V2omega_d#6)=(1,12815,52428);DelayUpdate\n",
      "•ModifyGraph rgb(V2omega_u#6)=(1,12815,52428),rgb(V2omega_d#7)=(26411,1,52428),rgb(V2omega_u#7)=(26411,1,52428),rgb(V2omega_d#8)=(52428,1,41942),rgb(V2omega_u#8)=(52428,1,41942)\n",
      "•ModifyGraph margin(right)=56\n",
      "•ShowTools/A arrow\n",
      "•DrawText 1.12676056338028,0.831858407079646,\"\\f02T\\f00 = 2 K\"\n",
      "•ModifyGraph margin(right)=85\n",
      "•SetDrawEnv textrgb= (52428,1,1)\n",
      "•SetDrawEnv textrgb= (52428,34958,1);DelayUpdate\n",
      "•DrawText 1.09859154929577,0.84070796460177,\"\\f02T\\f00 = 10 K\"\n",
      "•DrawText 1.09859154929577,0.84070796460177,\"10 K\"\n",
      "•DrawText 1.09859154929577,0.84070796460177,\"5 K\"\n",
      "•SetDrawEnv textrgb= (26205,52428,1);DelayUpdate\n",
      "•DrawText 1.09859154929577,0.566371681415929,\"20 K\"\n",
      "\n"
     ]
    }
   ],
   "source": [
    "string = \"\"\"\n",
    "\n",
    "•Display :'1_9T_sweep_50uA_2K':Rxx2omega_d vs :'1_9T_sweep_50uA_2K':B_ref_d\n",
    "•AppendToGraph :'1_9T_sweep_50uA_2K':Rxx2omega_u vs :'1_9T_sweep_50uA_2K':B_ref_u\n",
    "•SetAxis/A\n",
    "•AppendToGraph :'1_9T_sweep_50uA_5K':Rxx2omega_d vs :'1_9T_sweep_50uA_5K':B_ref_d\n",
    "•AppendToGraph :'1_9T_sweep_50uA_5K':Rxx2omega_u vs :'1_9T_sweep_50uA_5K':B_ref_u\n",
    "•AppendToGraph :'1_9T_sweep_50uA_10K':Rxx2omega_d vs :'1_9T_sweep_50uA_10K':B_ref_d\n",
    "•AppendToGraph :'1_9T_sweep_50uA_10K':Rxx2omega_u vs :'1_9T_sweep_50uA_10K':B_ref_u\n",
    "•AppendToGraph :'1_9T_sweep_50uA_20K':Rxx2omega_d vs :'1_9T_sweep_50uA_20K':B_ref_d\n",
    "•AppendToGraph :'1_9T_sweep_50uA_20K':Rxx2omega_u vs :'1_9T_sweep_50uA_20K':B_ref_u\n",
    "•AppendToGraph :'1_9T_sweep_50uA_30K':Rxx2omega_d vs :'1_9T_sweep_50uA_30K':B_ref_d\n",
    "•AppendToGraph :'1_9T_sweep_50uA_30K':Rxx2omega_u vs :'1_9T_sweep_50uA_30K':B_ref_u\n",
    "•AppendToGraph :'1_9T_sweep_50uA_40K':Rxx2omega_d vs :'1_9T_sweep_50uA_40K':B_ref_d\n",
    "•AppendToGraph :'1_9T_sweep_50uA_40K':Rxx2omega_u vs :'1_9T_sweep_50uA_40K':B_ref_u\n",
    "•AppendToGraph :'1_9T_sweep_50uA_60K':Rxx2omega_d vs :'1_9T_sweep_50uA_60K':B_ref_d\n",
    "•AppendToGraph :'1_9T_sweep_50uA_60K':Rxx2omega_u vs :'1_9T_sweep_50uA_60K':B_ref_u\n",
    "•AppendToGraph :'1_9T_sweep_50uA_80K':Rxx2omega_d vs :'1_9T_sweep_50uA_80K':B_ref_d\n",
    "•AppendToGraph :'1_9T_sweep_50uA_80K':Rxx2omega_u vs :'1_9T_sweep_50uA_80K':B_ref_u\n",
    "•AppendToGraph :'1_9T_sweep_50uA_100K':Rxx2omega_d vs :'1_9T_sweep_50uA_100K':B_ref_d\n",
    "•AppendToGraph :'1_9T_sweep_50uA_100K':Rxx2omega_u vs :'1_9T_sweep_50uA_100K':B_ref_u\n",
    "•Label left \"\\\\f02ρ\\\\Bxx\\\\M\\\\S2ω\\\\M\\\\f00 (Ω)\";DelayUpdate\n",
    "•Label bottom \"\\\\f02B\\\\f00 (T)\";DelayUpdate\n",
    "•SetAxis left -0.5,0.5;DelayUpdate\n",
    "•SetAxis bottom -10,10\n",
    "•ModifyGraph rgb(Rxx2omega_d)=(52428,1,1),rgb(Rxx2omega_u)=(52428,1,1)\n",
    "•ModifyGraph rgb(Rxx2omega_d#1)=(52428,34958,1),rgb(Rxx2omega_u#1)=(52428,34958,1)\n",
    "•ModifyGraph rgb(Rxx2omega_d#2)=(52428,52425,1),rgb(Rxx2omega_u#2)=(52428,52425,1),rgb(Rxx2omega_d#3)=(3,52428,1),rgb(Rxx2omega_u#3)=(3,52428,1),rgb(Rxx2omega_d#4)=(1,52428,52428),rgb(Rxx2omega_u#4)=(1,52428,52428),rgb(Rxx2omega_d#5)=(1,34817,52428),rgb(Rxx2omega_u#5)=(1,34817,52428),rgb(Rxx2omega_d#6)=(1,12815,52428);DelayUpdate\n",
    "•ModifyGraph rgb(Rxx2omega_u#6)=(1,12815,52428),rgb(Rxx2omega_d#7)=(26411,1,52428),rgb(Rxx2omega_u#7)=(26411,1,52428),rgb(Rxx2omega_d#8)=(52428,1,41942),rgb(Rxx2omega_u#8)=(52428,1,41942)\n",
    "•ModifyGraph margin(right)=56\n",
    "•ShowTools/A arrow\n",
    "•DrawText 1.12676056338028,0.831858407079646,\"\\\\f02T\\\\f00 = 2 K\"\n",
    "•ModifyGraph margin(right)=85\n",
    "•SetDrawEnv textrgb= (52428,1,1)\n",
    "•SetDrawEnv textrgb= (52428,34958,1);DelayUpdate\n",
    "•DrawText 1.09859154929577,0.84070796460177,\"\\\\f02T\\\\f00 = 10 K\"\n",
    "•DrawText 1.09859154929577,0.84070796460177,\"10 K\"\n",
    "•DrawText 1.09859154929577,0.84070796460177,\"5 K\"\n",
    "•SetDrawEnv textrgb= (26205,52428,1);DelayUpdate\n",
    "•DrawText 1.09859154929577,0.566371681415929,\"20 K\"\n",
    "\"\"\"\n",
    "\n",
    "# print(string.replace(\"2omega\", \"1omega\").replace(\"2ω\", \"1ω\"))\n",
    "# print(string.replace(\"2omega\", \"1omega\").replace(\"2ω\", \"1ω\").replace(\"Rxx\", \"V\"))\n",
    "print(string.replace(\"Rxx\", \"V\"))"
   ]
  },
  {
   "cell_type": "code",
   "execution_count": null,
   "metadata": {},
   "outputs": [],
   "source": []
  },
  {
   "cell_type": "code",
   "execution_count": null,
   "metadata": {},
   "outputs": [],
   "source": []
  }
 ],
 "metadata": {
  "kernelspec": {
   "display_name": "Python 3",
   "language": "python",
   "name": "python3"
  },
  "language_info": {
   "codemirror_mode": {
    "name": "ipython",
    "version": 3
   },
   "file_extension": ".py",
   "mimetype": "text/x-python",
   "name": "python",
   "nbconvert_exporter": "python",
   "pygments_lexer": "ipython3",
   "version": "3.8.2"
  }
 },
 "nbformat": 4,
 "nbformat_minor": 2
}
